{
  "nbformat": 4,
  "nbformat_minor": 0,
  "metadata": {
    "colab": {
      "provenance": [],
      "authorship_tag": "ABX9TyPJxKNiPIZdQHIDYzlAaDdy",
      "include_colab_link": true
    },
    "kernelspec": {
      "name": "python3",
      "display_name": "Python 3"
    },
    "language_info": {
      "name": "python"
    }
  },
  "cells": [
    {
      "cell_type": "markdown",
      "metadata": {
        "id": "view-in-github",
        "colab_type": "text"
      },
      "source": [
        "<a href=\"https://colab.research.google.com/github/chaugaialberteinstein/112_days_code_challenge/blob/main/Day37.ipynb\" target=\"_parent\"><img src=\"https://colab.research.google.com/assets/colab-badge.svg\" alt=\"Open In Colab\"/></a>"
      ]
    },
    {
      "cell_type": "markdown",
      "source": [
        "Exercise 37\n",
        "\n",
        "Load the data.csv file into the DataFrame.\n",
        "\n",
        "Then extract the polynomial features from the var1 column with degree = 2.\n",
        "\n",
        "In response, print result to the console.\n",
        "\n",
        "\n",
        "Tip: Use PolynomialFeatures class: https://scikit-learn.org/stable/modules/generated/sklearn.preprocessing.PolynomialFeatures.html\n",
        "\n",
        "\n",
        "Expected result:\n",
        "\n",
        "\n",
        "    [[ 1.    -0.542  0.294]\n",
        "     [ 1.     0.529  0.279]\n",
        "     [ 1.     0.625  0.391]\n",
        "     [ 1.     0.194  0.038]\n",
        "     [ 1.    -0.8    0.64 ]\n",
        "     [ 1.    -0.304  0.092]\n",
        "     [ 1.     1.086  1.18 ]\n",
        "     [ 1.    -1.16   1.346]\n",
        "     [ 1.     1.038  1.078]\n",
        "     [ 1.    -0.815  0.665]\n",
        "     [ 1.     0.416  0.173]\n",
        "     [ 1.     1.297  1.683]\n",
        "     [ 1.    -0.433  0.187]\n",
        "     [ 1.     1.059  1.121]\n",
        "     [ 1.     1.139  1.297]\n",
        "     [ 1.     1.     1.   ]\n",
        "     [ 1.     0.109  0.012]\n",
        "     [ 1.    -0.39   0.152]\n",
        "     [ 1.    -0.701  0.491]\n",
        "     [ 1.     0.698  0.488]\n",
        "     [ 1.     0.752  0.565]\n",
        "     [ 1.     0.661  0.437]\n",
        "     [ 1.    -0.964  0.93 ]\n",
        "     [ 1.    -0.252  0.064]\n",
        "     [ 1.     0.344  0.119]\n",
        "     [ 1.     0.524  0.274]\n",
        "     [ 1.    -0.164  0.027]\n",
        "     [ 1.     0.048  0.002]\n",
        "     [ 1.     0.606  0.367]\n",
        "     [ 1.    -0.148  0.022]]\n",
        "\n",
        "\n"
      ],
      "metadata": {
        "id": "1anQWeCOvt2b"
      }
    },
    {
      "cell_type": "code",
      "source": [],
      "metadata": {
        "id": "ZskYmvIsvuYe"
      },
      "execution_count": null,
      "outputs": []
    }
  ]
}