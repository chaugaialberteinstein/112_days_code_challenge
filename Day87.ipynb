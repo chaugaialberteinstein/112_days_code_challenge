{
  "nbformat": 4,
  "nbformat_minor": 0,
  "metadata": {
    "colab": {
      "provenance": [],
      "authorship_tag": "ABX9TyNKQo6qi6zfEigW01Wp556D",
      "include_colab_link": true
    },
    "kernelspec": {
      "name": "python3",
      "display_name": "Python 3"
    },
    "language_info": {
      "name": "python"
    }
  },
  "cells": [
    {
      "cell_type": "markdown",
      "metadata": {
        "id": "view-in-github",
        "colab_type": "text"
      },
      "source": [
        "<a href=\"https://colab.research.google.com/github/chaugaialberteinstein/112_days_code_challenge/blob/main/Day87.ipynb\" target=\"_parent\"><img src=\"https://colab.research.google.com/assets/colab-badge.svg\" alt=\"Open In Colab\"/></a>"
      ]
    },
    {
      "cell_type": "markdown",
      "source": [
        "Exercise 87\n",
        "\n",
        "Two files are attached to this exercise:\n",
        "\n",
        "    data_train.csv\n",
        "\n",
        "    target_train.csv\n",
        "\n",
        "The data_train.csv file contains e-mails from two categories: computer graphics (comp.graphics) and space (sci.space). The target_train.csv file contains the labels (0 - comp.graphics, 1 - sci.space). Load these files as DataFrame objects with the following names:\n",
        "\n",
        "    data_train\n",
        "\n",
        "    target_train\n",
        "\n",
        "Explore this dataset. In response, print the content of the second element of the data_train object.\n",
        "\n",
        "\n",
        "Expected result:\n",
        "\n",
        "\n",
        "    From: stephens@geod.emr.ca (Dave Stephenson)\n",
        "    Subject: Re: Clementine Science Team Selected\n",
        "    Nntp-Posting-Host: ngis.geod.emr.ca\n",
        "    Organization: Dept. of Energy, Mines, and Resources, Ottawa\n",
        "    Lines: 32\n",
        "     \n",
        "    nickh@CS.CMU.EDU (Nick Haines) writes:\n",
        "     \n",
        "    >In article <stephens.734792933@ngis> stephens@geod.emr.ca (Dave Stephenson) writes:\n",
        "     \n",
        "    >   Remember the first government scientist in the British Empire was\n",
        "    >   the Astronomer Royal, who was paid [...] from the Department\n",
        "    >   of Ordinance Budget (i.e. the military). Flamsteed House (the original\n",
        "    >   RGO) was built out of Army Surplus Scrap ( A gate house at the Tower of\n",
        "    >   London ?), and paid for by the sale of time expired gunpowder [...]\n",
        "     \n",
        "    >At the time, astronomy was vital to the military, in that navigation\n",
        "    >and cartography were of primary impoortance to the military, and good\n",
        "    >cartography was impossible without good astronomy.\n",
        "     \n",
        "    >The relevance these daysis somewhat less obvious.\n",
        "     \n",
        "    >Nick\n",
        "     \n",
        "    It still applies, except the astronomy these days is Very Long Baseline\n",
        "    Radio Astronomy coupled to GPS and Satellite Laser Ranging. The data\n",
        "    from NASA's and the Naval Observatory's (among others) is a vital \n",
        "    source of data for studies into crustal dynamics, Earth rotation, and\n",
        "    purturbations. Every time there is a leap second added to the New Year,\n",
        "    remember the military and science are still co-habiting nicely. The\n",
        "    same VLBI was used to track Gallileo as it passed the Earth, and used\n",
        "    so little fuel that it can afford to observe Ida. \n",
        "     \n",
        "    --\n",
        "    Dave Stephenson\n",
        "    Geodetic Survey of Canada\n",
        "    Ottawa, Ontario, Canada\n",
        "    Internet: stephens@geod.emr.ca"
      ],
      "metadata": {
        "id": "9h5666Z5rUjZ"
      }
    },
    {
      "cell_type": "code",
      "source": [],
      "metadata": {
        "id": "PfvaZHKgrVEe"
      },
      "execution_count": null,
      "outputs": []
    }
  ]
}