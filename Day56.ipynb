{
  "nbformat": 4,
  "nbformat_minor": 0,
  "metadata": {
    "colab": {
      "provenance": [],
      "authorship_tag": "ABX9TyPi/IP7BD5yKZx2hrJhx8ME",
      "include_colab_link": true
    },
    "kernelspec": {
      "name": "python3",
      "display_name": "Python 3"
    },
    "language_info": {
      "name": "python"
    }
  },
  "cells": [
    {
      "cell_type": "markdown",
      "metadata": {
        "id": "view-in-github",
        "colab_type": "text"
      },
      "source": [
        "<a href=\"https://colab.research.google.com/github/chaugaialberteinstein/112_days_code_challenge/blob/main/Day56.ipynb\" target=\"_parent\"><img src=\"https://colab.research.google.com/assets/colab-badge.svg\" alt=\"Open In Colab\"/></a>"
      ]
    },
    {
      "cell_type": "markdown",
      "source": [
        "Exercise 57\n",
        "\n",
        "The following list with text documents is given:\n",
        "\n",
        "\n",
        "    documents = [\n",
        "        'python is a programming language',\n",
        "        'python is popular',\n",
        "        'programming in python',\n",
        "        'object-oriented programming in python',\n",
        "        'programming language'\n",
        "    ]\n",
        "\n",
        "\n",
        "Vectorize the given documents using the TfidfVectorizer class from the scikit-learn. \n",
        "\n",
        "\n",
        "\n",
        "Using the stop_words argument remove two words from the vectorization: 'is' and 'in'.\n",
        "\n",
        "\n",
        "\n",
        "In response, print result as a DataFrame object as shown below.\n",
        "\n",
        "\n",
        "Tip:. More about TfidfVectorizer class: https://scikit-learn.org/stable/modules/generated/sklearn.feature_extraction.text.TfidfVectorizer.html\n",
        "\n",
        "\n",
        "Expected result:\n",
        "\n",
        "\n",
        "       language  object  oriented  popular  programming  python\n",
        "    0     0.712   0.000     0.000    0.000        0.497   0.497\n",
        "    1     0.000   0.000     0.000    0.871        0.000   0.491\n",
        "    2     0.000   0.000     0.000    0.000        0.707   0.707\n",
        "    3     0.000   0.616     0.616    0.000        0.347   0.347\n",
        "    4     0.820   0.000     0.000    0.000        0.573   0.000"
      ],
      "metadata": {
        "id": "p29HO6cHuMbQ"
      }
    },
    {
      "cell_type": "code",
      "source": [
        "import numpy as np\n",
        "import pandas as pd\n",
        "from sklearn.feature_extraction.text import TfidfVectorizer"
      ],
      "metadata": {
        "id": "h_LMBx4Iz_a8"
      },
      "execution_count": 33,
      "outputs": []
    },
    {
      "cell_type": "code",
      "source": [
        "pd.set_option('display.width',200)\n",
        "pd.set_option('display.max_columns',10)\n",
        "pd.set_option('precision',3)"
      ],
      "metadata": {
        "id": "2lRCn6BH0Nrp"
      },
      "execution_count": 34,
      "outputs": []
    },
    {
      "cell_type": "code",
      "source": [
        "documents = [\n",
        "    'python is a programming language',\n",
        "    'python is popular',\n",
        "    'programming in python',\n",
        "    'object-oriented programming in python',\n",
        "    'programming language'\n",
        "    ]"
      ],
      "metadata": {
        "id": "OTYhusiC0ypO"
      },
      "execution_count": 38,
      "outputs": []
    },
    {
      "cell_type": "code",
      "source": [
        "tfidf_vectorizer = TfidfVectorizer(stop_words = ['is','in'])\n",
        "df = pd.DataFrame(\n",
        "    data = tfidf_vectorizer.fit_transform(documents).toarray(),\n",
        "    columns = tfidf_vectorizer.get_feature_names()\n",
        ")\n",
        "print(df)"
      ],
      "metadata": {
        "colab": {
          "base_uri": "https://localhost:8080/"
        },
        "id": "iK8Rfd8T01h8",
        "outputId": "47acd433-21e2-45a8-b848-20cfba164689"
      },
      "execution_count": 40,
      "outputs": [
        {
          "output_type": "stream",
          "name": "stdout",
          "text": [
            "   language  object  oriented  popular  programming  python\n",
            "0     0.712   0.000     0.000    0.000        0.497   0.497\n",
            "1     0.000   0.000     0.000    0.871        0.000   0.491\n",
            "2     0.000   0.000     0.000    0.000        0.707   0.707\n",
            "3     0.000   0.616     0.616    0.000        0.347   0.347\n",
            "4     0.820   0.000     0.000    0.000        0.573   0.000\n"
          ]
        },
        {
          "output_type": "stream",
          "name": "stderr",
          "text": [
            "/usr/local/lib/python3.7/dist-packages/sklearn/utils/deprecation.py:87: FutureWarning: Function get_feature_names is deprecated; get_feature_names is deprecated in 1.0 and will be removed in 1.2. Please use get_feature_names_out instead.\n",
            "  warnings.warn(msg, category=FutureWarning)\n"
          ]
        }
      ]
    }
  ]
}