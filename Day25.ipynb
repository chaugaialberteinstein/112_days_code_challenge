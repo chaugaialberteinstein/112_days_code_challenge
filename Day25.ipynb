{
  "nbformat": 4,
  "nbformat_minor": 0,
  "metadata": {
    "colab": {
      "provenance": [],
      "authorship_tag": "ABX9TyPE7kJFAl9zKrrjm/qOgG52",
      "include_colab_link": true
    },
    "kernelspec": {
      "name": "python3",
      "display_name": "Python 3"
    },
    "language_info": {
      "name": "python"
    }
  },
  "cells": [
    {
      "cell_type": "markdown",
      "metadata": {
        "id": "view-in-github",
        "colab_type": "text"
      },
      "source": [
        "<a href=\"https://colab.research.google.com/github/chaugaialberteinstein/112_days_code_challenge/blob/main/Day25.ipynb\" target=\"_parent\"><img src=\"https://colab.research.google.com/assets/colab-badge.svg\" alt=\"Open In Colab\"/></a>"
      ]
    },
    {
      "cell_type": "code",
      "execution_count": null,
      "metadata": {
        "id": "Uqf30qP4-k19"
      },
      "outputs": [],
      "source": []
    },
    {
      "cell_type": "markdown",
      "source": [
        "Exercise 25\n",
        "\n",
        "The df DataFrame is given below:\n",
        "\n",
        "\n",
        "      size  color  gender  price  weight bought\n",
        "    0   XL    red  female  199.0     500    yes\n",
        "    1    L  green    male   89.0     450     no\n",
        "    2    M   blue    male   99.0     300    yes\n",
        "    3    L  green  female  129.0     380     no\n",
        "    4    M    red  female   79.0     410    yes\n",
        "\n",
        "\n",
        "Using the LabelEncoder class from the scikit-learn package encode target variable - bought as shown below and assign the result to the df DataFrame.\n",
        "\n",
        "In response, print the df DataFrame to the console.\n",
        "\n",
        "\n",
        "Tip: More about LabelEncoder class: https://scikit-learn.org/stable/modules/generated/sklearn.preprocessing.LabelEncoder.html\n",
        "\n",
        "\n",
        "Expected result:\n",
        "\n",
        "\n",
        "      size  color  gender  price  weight  bought\n",
        "    0   XL    red  female  199.0   500.0       1\n",
        "    1    L  green    male   89.0   450.0       0\n",
        "    2    M   blue    male   99.0   300.0       1\n",
        "    3    L  green  female  129.0   380.0       0\n",
        "    4    M    red  female   79.0   410.0       1\n",
        "\n",
        "\n"
      ],
      "metadata": {
        "id": "3lJg2Udm-n6f"
      }
    },
    {
      "cell_type": "code",
      "source": [
        "import pandas as pd\n",
        "from sklearn.preprocessing import LabelEncoder"
      ],
      "metadata": {
        "id": "Z2s_W42K-oQO"
      },
      "execution_count": 6,
      "outputs": []
    },
    {
      "cell_type": "code",
      "source": [
        "data = { 'size':['XL','L','M','L','M'],\n",
        "        'color':['red','green','blue','green','red'],\n",
        "        'gender':['female','male','male','female','female'],\n",
        "        'price':[199,89,99,129,79],\n",
        "        'weight':[500,450,300,300,410],\n",
        "        'bought':['yes','no','yes','no','yes']\n",
        "}\n",
        "df = pd.DataFrame(data)\n",
        "df"
      ],
      "metadata": {
        "colab": {
          "base_uri": "https://localhost:8080/",
          "height": 206
        },
        "id": "nYpqY6LVCexA",
        "outputId": "5fa614da-ee06-42ab-9df1-70d80926222e"
      },
      "execution_count": 8,
      "outputs": [
        {
          "output_type": "execute_result",
          "data": {
            "text/plain": [
              "  size  color  gender  price  weight bought\n",
              "0   XL    red  female    199     500    yes\n",
              "1    L  green    male     89     450     no\n",
              "2    M   blue    male     99     300    yes\n",
              "3    L  green  female    129     300     no\n",
              "4    M    red  female     79     410    yes"
            ],
            "text/html": [
              "\n",
              "  <div id=\"df-de0dd74e-7351-4023-9b2c-704e03b0f684\">\n",
              "    <div class=\"colab-df-container\">\n",
              "      <div>\n",
              "<style scoped>\n",
              "    .dataframe tbody tr th:only-of-type {\n",
              "        vertical-align: middle;\n",
              "    }\n",
              "\n",
              "    .dataframe tbody tr th {\n",
              "        vertical-align: top;\n",
              "    }\n",
              "\n",
              "    .dataframe thead th {\n",
              "        text-align: right;\n",
              "    }\n",
              "</style>\n",
              "<table border=\"1\" class=\"dataframe\">\n",
              "  <thead>\n",
              "    <tr style=\"text-align: right;\">\n",
              "      <th></th>\n",
              "      <th>size</th>\n",
              "      <th>color</th>\n",
              "      <th>gender</th>\n",
              "      <th>price</th>\n",
              "      <th>weight</th>\n",
              "      <th>bought</th>\n",
              "    </tr>\n",
              "  </thead>\n",
              "  <tbody>\n",
              "    <tr>\n",
              "      <th>0</th>\n",
              "      <td>XL</td>\n",
              "      <td>red</td>\n",
              "      <td>female</td>\n",
              "      <td>199</td>\n",
              "      <td>500</td>\n",
              "      <td>yes</td>\n",
              "    </tr>\n",
              "    <tr>\n",
              "      <th>1</th>\n",
              "      <td>L</td>\n",
              "      <td>green</td>\n",
              "      <td>male</td>\n",
              "      <td>89</td>\n",
              "      <td>450</td>\n",
              "      <td>no</td>\n",
              "    </tr>\n",
              "    <tr>\n",
              "      <th>2</th>\n",
              "      <td>M</td>\n",
              "      <td>blue</td>\n",
              "      <td>male</td>\n",
              "      <td>99</td>\n",
              "      <td>300</td>\n",
              "      <td>yes</td>\n",
              "    </tr>\n",
              "    <tr>\n",
              "      <th>3</th>\n",
              "      <td>L</td>\n",
              "      <td>green</td>\n",
              "      <td>female</td>\n",
              "      <td>129</td>\n",
              "      <td>300</td>\n",
              "      <td>no</td>\n",
              "    </tr>\n",
              "    <tr>\n",
              "      <th>4</th>\n",
              "      <td>M</td>\n",
              "      <td>red</td>\n",
              "      <td>female</td>\n",
              "      <td>79</td>\n",
              "      <td>410</td>\n",
              "      <td>yes</td>\n",
              "    </tr>\n",
              "  </tbody>\n",
              "</table>\n",
              "</div>\n",
              "      <button class=\"colab-df-convert\" onclick=\"convertToInteractive('df-de0dd74e-7351-4023-9b2c-704e03b0f684')\"\n",
              "              title=\"Convert this dataframe to an interactive table.\"\n",
              "              style=\"display:none;\">\n",
              "        \n",
              "  <svg xmlns=\"http://www.w3.org/2000/svg\" height=\"24px\"viewBox=\"0 0 24 24\"\n",
              "       width=\"24px\">\n",
              "    <path d=\"M0 0h24v24H0V0z\" fill=\"none\"/>\n",
              "    <path d=\"M18.56 5.44l.94 2.06.94-2.06 2.06-.94-2.06-.94-.94-2.06-.94 2.06-2.06.94zm-11 1L8.5 8.5l.94-2.06 2.06-.94-2.06-.94L8.5 2.5l-.94 2.06-2.06.94zm10 10l.94 2.06.94-2.06 2.06-.94-2.06-.94-.94-2.06-.94 2.06-2.06.94z\"/><path d=\"M17.41 7.96l-1.37-1.37c-.4-.4-.92-.59-1.43-.59-.52 0-1.04.2-1.43.59L10.3 9.45l-7.72 7.72c-.78.78-.78 2.05 0 2.83L4 21.41c.39.39.9.59 1.41.59.51 0 1.02-.2 1.41-.59l7.78-7.78 2.81-2.81c.8-.78.8-2.07 0-2.86zM5.41 20L4 18.59l7.72-7.72 1.47 1.35L5.41 20z\"/>\n",
              "  </svg>\n",
              "      </button>\n",
              "      \n",
              "  <style>\n",
              "    .colab-df-container {\n",
              "      display:flex;\n",
              "      flex-wrap:wrap;\n",
              "      gap: 12px;\n",
              "    }\n",
              "\n",
              "    .colab-df-convert {\n",
              "      background-color: #E8F0FE;\n",
              "      border: none;\n",
              "      border-radius: 50%;\n",
              "      cursor: pointer;\n",
              "      display: none;\n",
              "      fill: #1967D2;\n",
              "      height: 32px;\n",
              "      padding: 0 0 0 0;\n",
              "      width: 32px;\n",
              "    }\n",
              "\n",
              "    .colab-df-convert:hover {\n",
              "      background-color: #E2EBFA;\n",
              "      box-shadow: 0px 1px 2px rgba(60, 64, 67, 0.3), 0px 1px 3px 1px rgba(60, 64, 67, 0.15);\n",
              "      fill: #174EA6;\n",
              "    }\n",
              "\n",
              "    [theme=dark] .colab-df-convert {\n",
              "      background-color: #3B4455;\n",
              "      fill: #D2E3FC;\n",
              "    }\n",
              "\n",
              "    [theme=dark] .colab-df-convert:hover {\n",
              "      background-color: #434B5C;\n",
              "      box-shadow: 0px 1px 3px 1px rgba(0, 0, 0, 0.15);\n",
              "      filter: drop-shadow(0px 1px 2px rgba(0, 0, 0, 0.3));\n",
              "      fill: #FFFFFF;\n",
              "    }\n",
              "  </style>\n",
              "\n",
              "      <script>\n",
              "        const buttonEl =\n",
              "          document.querySelector('#df-de0dd74e-7351-4023-9b2c-704e03b0f684 button.colab-df-convert');\n",
              "        buttonEl.style.display =\n",
              "          google.colab.kernel.accessAllowed ? 'block' : 'none';\n",
              "\n",
              "        async function convertToInteractive(key) {\n",
              "          const element = document.querySelector('#df-de0dd74e-7351-4023-9b2c-704e03b0f684');\n",
              "          const dataTable =\n",
              "            await google.colab.kernel.invokeFunction('convertToInteractive',\n",
              "                                                     [key], {});\n",
              "          if (!dataTable) return;\n",
              "\n",
              "          const docLinkHtml = 'Like what you see? Visit the ' +\n",
              "            '<a target=\"_blank\" href=https://colab.research.google.com/notebooks/data_table.ipynb>data table notebook</a>'\n",
              "            + ' to learn more about interactive tables.';\n",
              "          element.innerHTML = '';\n",
              "          dataTable['output_type'] = 'display_data';\n",
              "          await google.colab.output.renderOutput(dataTable, element);\n",
              "          const docLink = document.createElement('div');\n",
              "          docLink.innerHTML = docLinkHtml;\n",
              "          element.appendChild(docLink);\n",
              "        }\n",
              "      </script>\n",
              "    </div>\n",
              "  </div>\n",
              "  "
            ]
          },
          "metadata": {},
          "execution_count": 8
        }
      ]
    },
    {
      "cell_type": "code",
      "source": [
        "for col in ['size','color','gender', 'bought']:\n",
        "  df[col] = df[col].astype('category')\n",
        "\n",
        "df['weight']=df['weight'].astype('float')\n",
        "\n",
        "\n",
        "le = LabelEncoder()\n",
        "df['bought'] = le.fit_transform(df['bought'])\n",
        "print(df)"
      ],
      "metadata": {
        "colab": {
          "base_uri": "https://localhost:8080/"
        },
        "id": "qVIhv975DE_W",
        "outputId": "ce108de5-ae20-4186-bf80-71b2b8a3e47e"
      },
      "execution_count": 10,
      "outputs": [
        {
          "output_type": "stream",
          "name": "stdout",
          "text": [
            "  size  color  gender  price  weight  bought\n",
            "0   XL    red  female    199   500.0       1\n",
            "1    L  green    male     89   450.0       0\n",
            "2    M   blue    male     99   300.0       1\n",
            "3    L  green  female    129   300.0       0\n",
            "4    M    red  female     79   410.0       1\n"
          ]
        }
      ]
    }
  ]
}