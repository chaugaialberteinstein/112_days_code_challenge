{
  "nbformat": 4,
  "nbformat_minor": 0,
  "metadata": {
    "colab": {
      "provenance": [],
      "authorship_tag": "ABX9TyP5bsMhJfdKYfV09zTF6A8o",
      "include_colab_link": true
    },
    "kernelspec": {
      "name": "python3",
      "display_name": "Python 3"
    },
    "language_info": {
      "name": "python"
    }
  },
  "cells": [
    {
      "cell_type": "markdown",
      "metadata": {
        "id": "view-in-github",
        "colab_type": "text"
      },
      "source": [
        "<a href=\"https://colab.research.google.com/github/chaugaialberteinstein/112_days_code_challenge/blob/main/Day85.ipynb\" target=\"_parent\"><img src=\"https://colab.research.google.com/assets/colab-badge.svg\" alt=\"Open In Colab\"/></a>"
      ]
    },
    {
      "cell_type": "markdown",
      "source": [
        "Exercise 85\n",
        "\n",
        "Using the load_digits() function from the scikit-learn package image data was loaded into the following variables:\n",
        "\n",
        "    data - images as a numpy array with (1797, 64) shape\n",
        "\n",
        "    target - labels as a numpy array with (1797,) shape \n",
        "\n",
        "Then the data variable was standardized. Using the train_test_split() function, the data was splitted into train and test set:\n",
        "\n",
        "    X_train, y_train\n",
        "\n",
        "    X_test, y_test\n",
        "\n",
        "with the following shapes:\n",
        "\n",
        "\n",
        "    X_train shape: (1347, 64)\n",
        "    y_train shape: (1347,)\n",
        "    X_test shape: (450, 64)\n",
        "    y_test shape: (450,)\n",
        "\n",
        "\n",
        "Create a multi-class classification model using the KNeighborsClassifier class from the scikit-learn package. Fit the model on the train data and then evaluate on the test data. In response, print the accuracy of the model to the console as shown below.\n",
        "\n",
        "\n",
        "Tip: More about KNeighborsClassifier class: https://scikit-learn.org/stable/modules/generated/sklearn.neighbors.KNeighborsClassifier.html\n",
        "\n",
        "\n",
        "Expected result:\n",
        "\n",
        "\n",
        "    KNN accuracy: 0.9933"
      ],
      "metadata": {
        "id": "sq9oqBc8AUgz"
      }
    },
    {
      "cell_type": "code",
      "source": [
        "import numpy as np\n",
        "import pandas as pd"
      ],
      "metadata": {
        "id": "BMRbHvrZAVAv"
      },
      "execution_count": 7,
      "outputs": []
    },
    {
      "cell_type": "code",
      "source": [
        "from sklearn.datasets import load_digits\n",
        "from sklearn.model_selection import train_test_split\n",
        "from sklearn.neighbors import KNeighborsClassifier"
      ],
      "metadata": {
        "id": "_2tpNIfTZiXE"
      },
      "execution_count": 8,
      "outputs": []
    },
    {
      "cell_type": "code",
      "source": [
        "np.random.seed(42)\n",
        "data , target = load_digits(return_X_y = True)\n",
        "data = data/data.max()"
      ],
      "metadata": {
        "id": "DcQejsdJZv08"
      },
      "execution_count": 9,
      "outputs": []
    },
    {
      "cell_type": "code",
      "source": [
        "X_train , X_test , y_train , y_test = train_test_split(\n",
        "    data,\n",
        "    target,\n",
        "    random_state = 42\n",
        ")"
      ],
      "metadata": {
        "id": "eRy2g9hjZ63F"
      },
      "execution_count": 10,
      "outputs": []
    },
    {
      "cell_type": "code",
      "source": [
        "knn = KNeighborsClassifier()\n",
        "knn.fit(X_train , y_train)\n",
        "acc = knn.score(X_test , y_test)\n",
        "print(f'KNN accuracy: {acc:.4f}')"
      ],
      "metadata": {
        "colab": {
          "base_uri": "https://localhost:8080/"
        },
        "id": "6gCksurNaFXz",
        "outputId": "39c79689-04a6-4797-ff69-36fcbb0b9358"
      },
      "execution_count": 11,
      "outputs": [
        {
          "output_type": "stream",
          "name": "stdout",
          "text": [
            "KNN accuracy: 0.9933\n"
          ]
        }
      ]
    }
  ]
}