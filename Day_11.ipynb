{
  "nbformat": 4,
  "nbformat_minor": 0,
  "metadata": {
    "colab": {
      "provenance": [],
      "authorship_tag": "ABX9TyOsD573QqHXbLI5ixa9ME+s",
      "include_colab_link": true
    },
    "kernelspec": {
      "name": "python3",
      "display_name": "Python 3"
    },
    "language_info": {
      "name": "python"
    }
  },
  "cells": [
    {
      "cell_type": "markdown",
      "metadata": {
        "id": "view-in-github",
        "colab_type": "text"
      },
      "source": [
        "<a href=\"https://colab.research.google.com/github/chaugaialberteinstein/112_days_code_challenge/blob/main/Day_11.ipynb\" target=\"_parent\"><img src=\"https://colab.research.google.com/assets/colab-badge.svg\" alt=\"Open In Colab\"/></a>"
      ]
    },
    {
      "cell_type": "markdown",
      "source": [
        "Exercise 11 [KEY CHECKED]\n",
        "\n",
        "The df DataFrame is given below:\n",
        "\n",
        "\n",
        "       weight weight_cut\n",
        "    0    75.0      light\n",
        "    1    78.5     normal\n",
        "    2    85.0      heavy\n",
        "    3    91.0      heavy\n",
        "    4    84.5      heavy\n",
        "    5    83.0      heavy\n",
        "    6    68.0      light\n",
        "\n",
        "\n",
        "Using pd.get_dummies() function convert weight_cut categorical column into dummy variable as shown below.\n",
        "\n",
        "In response, print result to the console.\n",
        "\n",
        "\n",
        "Tip: More about pd.get_dummies(): https://pandas.pydata.org/pandas-docs/stable/reference/api/pandas.get_dummies.html\n",
        "\n",
        "\n",
        "Expected result:\n",
        "\n",
        "\n",
        "       weight  weight_cut_light  weight_cut_normal  weight_cut_heavy\n",
        "    0    75.0                 1                  0                 0\n",
        "    1    78.5                 0                  1                 0\n",
        "    2    85.0                 0                  0                 1\n",
        "    3    91.0                 0                  0                 1\n",
        "    4    84.5                 0                  0                 1\n",
        "    5    83.0                 0                  0                 1\n",
        "    6    68.0                 1                  0                 0\n",
        "\n",
        "\n"
      ],
      "metadata": {
        "id": "8aXXW1hqa64z"
      }
    },
    {
      "cell_type": "code",
      "source": [
        "import pandas as pd\n",
        "     \n",
        "df = pd.DataFrame(data={'weight': [75., 78.5, 85., 91., 84.5, 83., 68.]})\n",
        "df['weight_cut'] = pd.cut(\n",
        "        df['weight'], \n",
        "        bins=(60, 75, 80, 95), \n",
        "        labels=['light', 'normal', 'heavy']\n",
        "    )\n",
        "df = pd.get_dummies(df)\n",
        "print(df)\n",
        "\n"
      ],
      "metadata": {
        "colab": {
          "base_uri": "https://localhost:8080/"
        },
        "id": "dsNmLreya7Sa",
        "outputId": "8a7c58e3-d688-4e2b-8010-4646e2e5d678"
      },
      "execution_count": 3,
      "outputs": [
        {
          "output_type": "stream",
          "name": "stdout",
          "text": [
            "   weight  weight_cut_light  weight_cut_normal  weight_cut_heavy\n",
            "0    75.0                 1                  0                 0\n",
            "1    78.5                 0                  1                 0\n",
            "2    85.0                 0                  0                 1\n",
            "3    91.0                 0                  0                 1\n",
            "4    84.5                 0                  0                 1\n",
            "5    83.0                 0                  0                 1\n",
            "6    68.0                 1                  0                 0\n"
          ]
        }
      ]
    }
  ]
}