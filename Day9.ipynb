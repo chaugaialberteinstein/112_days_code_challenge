{
  "nbformat": 4,
  "nbformat_minor": 0,
  "metadata": {
    "colab": {
      "provenance": [],
      "authorship_tag": "ABX9TyPpnGXSwuRLhos4JYd0PwN7",
      "include_colab_link": true
    },
    "kernelspec": {
      "name": "python3",
      "display_name": "Python 3"
    },
    "language_info": {
      "name": "python"
    }
  },
  "cells": [
    {
      "cell_type": "markdown",
      "metadata": {
        "id": "view-in-github",
        "colab_type": "text"
      },
      "source": [
        "<a href=\"https://colab.research.google.com/github/chaugaialberteinstein/112_days_code_challenge/blob/main/Day9.ipynb\" target=\"_parent\"><img src=\"https://colab.research.google.com/assets/colab-badge.svg\" alt=\"Open In Colab\"/></a>"
      ]
    },
    {
      "cell_type": "markdown",
      "source": [
        "Exercise 9 [key checked]\n",
        "\n",
        "The df DataFrame is given below:\n",
        "\n",
        "\n",
        "    df = pd.DataFrame(data={'weight': [75., 78.5, 85., 91., 84.5, 83., 68.]})\n",
        "\n",
        "\n",
        "Discretize the column weight into three intervals with the given boundaries:\n",
        "\n",
        "    (60, 75]\n",
        "\n",
        "    (75, 80]\n",
        "\n",
        "    (80, 95]\n",
        "\n",
        "Assign the result to the new column 'weight_cut' as shown below.\n",
        "\n",
        "In response, print the df DataFrame to the console.\n",
        "\n",
        "\n",
        "Expected result:\n",
        "\n",
        "\n",
        "       weight weight_cut\n",
        "    0    75.0   (60, 75]\n",
        "    1    78.5   (75, 80]\n",
        "    2    85.0   (80, 95]\n",
        "    3    91.0   (80, 95]\n",
        "    4    84.5   (80, 95]\n",
        "    5    83.0   (80, 95]\n",
        "    6    68.0   (60, 75]\n",
        "\n",
        "\n"
      ],
      "metadata": {
        "id": "aYpfF6eVmQgN"
      }
    },
    {
      "cell_type": "code",
      "source": [
        "    import pandas as pd\n",
        "     \n",
        "     \n",
        "    df = pd.DataFrame(data={'weight': [75., 78.5, 85., 91., 84.5, 83., 68.]})\n",
        "    df['weight_cut'] = pd.cut(df['weight'], bins=(60, 75, 80, 95))\n",
        "    print(df)"
      ],
      "metadata": {
        "colab": {
          "base_uri": "https://localhost:8080/"
        },
        "id": "n1-VaYtPmRTH",
        "outputId": "9252988e-3581-4463-b0be-e0db1df51804"
      },
      "execution_count": 6,
      "outputs": [
        {
          "output_type": "stream",
          "name": "stdout",
          "text": [
            "   weight weight_cut\n",
            "0    75.0   (60, 75]\n",
            "1    78.5   (75, 80]\n",
            "2    85.0   (80, 95]\n",
            "3    91.0   (80, 95]\n",
            "4    84.5   (80, 95]\n",
            "5    83.0   (80, 95]\n",
            "6    68.0   (60, 75]\n"
          ]
        }
      ]
    },
    {
      "cell_type": "code",
      "source": [],
      "metadata": {
        "id": "aIj3n6aWodVi"
      },
      "execution_count": null,
      "outputs": []
    }
  ]
}