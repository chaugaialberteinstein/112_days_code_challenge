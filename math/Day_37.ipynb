{
  "nbformat": 4,
  "nbformat_minor": 0,
  "metadata": {
    "colab": {
      "provenance": [],
      "authorship_tag": "ABX9TyMHTS9cbW/LjllHkMGtt/9V",
      "include_colab_link": true
    },
    "kernelspec": {
      "name": "python3",
      "display_name": "Python 3"
    },
    "language_info": {
      "name": "python"
    }
  },
  "cells": [
    {
      "cell_type": "markdown",
      "metadata": {
        "id": "view-in-github",
        "colab_type": "text"
      },
      "source": [
        "<a href=\"https://colab.research.google.com/github/chaugaialberteinstein/112_days_code_challenge/blob/main/Day_37.ipynb\" target=\"_parent\"><img src=\"https://colab.research.google.com/assets/colab-badge.svg\" alt=\"Open In Colab\"/></a>"
      ]
    },
    {
      "cell_type": "markdown",
      "source": [
        "Exercise 37 : [Polynomial Feature Transform]\n",
        "\n",
        "Load the data.csv file into the DataFrame.\n",
        "\n",
        "Then extract the polynomial features from the var1 column with degree = 2.\n",
        "\n",
        "In response, print result to the console.\n",
        "\n",
        "\n",
        "Tip: Use PolynomialFeatures class: https://scikit-learn.org/stable/modules/generated/sklearn.preprocessing.PolynomialFeatures.html\n",
        "\n",
        "\n",
        "Expected result:\n",
        "\n",
        "\n",
        "    [[ 1.    -0.542  0.294]\n",
        "     [ 1.     0.529  0.279]\n",
        "     [ 1.     0.625  0.391]\n",
        "     [ 1.     0.194  0.038]\n",
        "     [ 1.    -0.8    0.64 ]\n",
        "     [ 1.    -0.304  0.092]\n",
        "     [ 1.     1.086  1.18 ]\n",
        "     [ 1.    -1.16   1.346]\n",
        "     [ 1.     1.038  1.078]\n",
        "     [ 1.    -0.815  0.665]\n",
        "     [ 1.     0.416  0.173]\n",
        "     [ 1.     1.297  1.683]\n",
        "     [ 1.    -0.433  0.187]\n",
        "     [ 1.     1.059  1.121]\n",
        "     [ 1.     1.139  1.297]\n",
        "     [ 1.     1.     1.   ]\n",
        "     [ 1.     0.109  0.012]\n",
        "     [ 1.    -0.39   0.152]\n",
        "     [ 1.    -0.701  0.491]\n",
        "     [ 1.     0.698  0.488]\n",
        "     [ 1.     0.752  0.565]\n",
        "     [ 1.     0.661  0.437]\n",
        "     [ 1.    -0.964  0.93 ]\n",
        "     [ 1.    -0.252  0.064]\n",
        "     [ 1.     0.344  0.119]\n",
        "     [ 1.     0.524  0.274]\n",
        "     [ 1.    -0.164  0.027]\n",
        "     [ 1.     0.048  0.002]\n",
        "     [ 1.     0.606  0.367]\n",
        "     [ 1.    -0.148  0.022]]\n",
        "\n",
        "\n"
      ],
      "metadata": {
        "id": "1anQWeCOvt2b"
      }
    },
    {
      "cell_type": "code",
      "source": [
        "import pandas as pd\n"
      ],
      "metadata": {
        "id": "T4o1aC_22dIZ"
      },
      "execution_count": 6,
      "outputs": []
    },
    {
      "cell_type": "code",
      "source": [
        "from google.colab import files\n",
        " \n",
        " \n",
        "uploaded = files.upload()"
      ],
      "metadata": {
        "colab": {
          "base_uri": "https://localhost:8080/",
          "height": 74
        },
        "id": "IaZgKZvQ5xJc",
        "outputId": "1092c8ac-1141-4709-b2e6-8bf4cd3a0b80"
      },
      "execution_count": 7,
      "outputs": [
        {
          "output_type": "display_data",
          "data": {
            "text/plain": [
              "<IPython.core.display.HTML object>"
            ],
            "text/html": [
              "\n",
              "     <input type=\"file\" id=\"files-65b7e340-4dfc-4189-8dd2-bb185818423e\" name=\"files[]\" multiple disabled\n",
              "        style=\"border:none\" />\n",
              "     <output id=\"result-65b7e340-4dfc-4189-8dd2-bb185818423e\">\n",
              "      Upload widget is only available when the cell has been executed in the\n",
              "      current browser session. Please rerun this cell to enable.\n",
              "      </output>\n",
              "      <script>// Copyright 2017 Google LLC\n",
              "//\n",
              "// Licensed under the Apache License, Version 2.0 (the \"License\");\n",
              "// you may not use this file except in compliance with the License.\n",
              "// You may obtain a copy of the License at\n",
              "//\n",
              "//      http://www.apache.org/licenses/LICENSE-2.0\n",
              "//\n",
              "// Unless required by applicable law or agreed to in writing, software\n",
              "// distributed under the License is distributed on an \"AS IS\" BASIS,\n",
              "// WITHOUT WARRANTIES OR CONDITIONS OF ANY KIND, either express or implied.\n",
              "// See the License for the specific language governing permissions and\n",
              "// limitations under the License.\n",
              "\n",
              "/**\n",
              " * @fileoverview Helpers for google.colab Python module.\n",
              " */\n",
              "(function(scope) {\n",
              "function span(text, styleAttributes = {}) {\n",
              "  const element = document.createElement('span');\n",
              "  element.textContent = text;\n",
              "  for (const key of Object.keys(styleAttributes)) {\n",
              "    element.style[key] = styleAttributes[key];\n",
              "  }\n",
              "  return element;\n",
              "}\n",
              "\n",
              "// Max number of bytes which will be uploaded at a time.\n",
              "const MAX_PAYLOAD_SIZE = 100 * 1024;\n",
              "\n",
              "function _uploadFiles(inputId, outputId) {\n",
              "  const steps = uploadFilesStep(inputId, outputId);\n",
              "  const outputElement = document.getElementById(outputId);\n",
              "  // Cache steps on the outputElement to make it available for the next call\n",
              "  // to uploadFilesContinue from Python.\n",
              "  outputElement.steps = steps;\n",
              "\n",
              "  return _uploadFilesContinue(outputId);\n",
              "}\n",
              "\n",
              "// This is roughly an async generator (not supported in the browser yet),\n",
              "// where there are multiple asynchronous steps and the Python side is going\n",
              "// to poll for completion of each step.\n",
              "// This uses a Promise to block the python side on completion of each step,\n",
              "// then passes the result of the previous step as the input to the next step.\n",
              "function _uploadFilesContinue(outputId) {\n",
              "  const outputElement = document.getElementById(outputId);\n",
              "  const steps = outputElement.steps;\n",
              "\n",
              "  const next = steps.next(outputElement.lastPromiseValue);\n",
              "  return Promise.resolve(next.value.promise).then((value) => {\n",
              "    // Cache the last promise value to make it available to the next\n",
              "    // step of the generator.\n",
              "    outputElement.lastPromiseValue = value;\n",
              "    return next.value.response;\n",
              "  });\n",
              "}\n",
              "\n",
              "/**\n",
              " * Generator function which is called between each async step of the upload\n",
              " * process.\n",
              " * @param {string} inputId Element ID of the input file picker element.\n",
              " * @param {string} outputId Element ID of the output display.\n",
              " * @return {!Iterable<!Object>} Iterable of next steps.\n",
              " */\n",
              "function* uploadFilesStep(inputId, outputId) {\n",
              "  const inputElement = document.getElementById(inputId);\n",
              "  inputElement.disabled = false;\n",
              "\n",
              "  const outputElement = document.getElementById(outputId);\n",
              "  outputElement.innerHTML = '';\n",
              "\n",
              "  const pickedPromise = new Promise((resolve) => {\n",
              "    inputElement.addEventListener('change', (e) => {\n",
              "      resolve(e.target.files);\n",
              "    });\n",
              "  });\n",
              "\n",
              "  const cancel = document.createElement('button');\n",
              "  inputElement.parentElement.appendChild(cancel);\n",
              "  cancel.textContent = 'Cancel upload';\n",
              "  const cancelPromise = new Promise((resolve) => {\n",
              "    cancel.onclick = () => {\n",
              "      resolve(null);\n",
              "    };\n",
              "  });\n",
              "\n",
              "  // Wait for the user to pick the files.\n",
              "  const files = yield {\n",
              "    promise: Promise.race([pickedPromise, cancelPromise]),\n",
              "    response: {\n",
              "      action: 'starting',\n",
              "    }\n",
              "  };\n",
              "\n",
              "  cancel.remove();\n",
              "\n",
              "  // Disable the input element since further picks are not allowed.\n",
              "  inputElement.disabled = true;\n",
              "\n",
              "  if (!files) {\n",
              "    return {\n",
              "      response: {\n",
              "        action: 'complete',\n",
              "      }\n",
              "    };\n",
              "  }\n",
              "\n",
              "  for (const file of files) {\n",
              "    const li = document.createElement('li');\n",
              "    li.append(span(file.name, {fontWeight: 'bold'}));\n",
              "    li.append(span(\n",
              "        `(${file.type || 'n/a'}) - ${file.size} bytes, ` +\n",
              "        `last modified: ${\n",
              "            file.lastModifiedDate ? file.lastModifiedDate.toLocaleDateString() :\n",
              "                                    'n/a'} - `));\n",
              "    const percent = span('0% done');\n",
              "    li.appendChild(percent);\n",
              "\n",
              "    outputElement.appendChild(li);\n",
              "\n",
              "    const fileDataPromise = new Promise((resolve) => {\n",
              "      const reader = new FileReader();\n",
              "      reader.onload = (e) => {\n",
              "        resolve(e.target.result);\n",
              "      };\n",
              "      reader.readAsArrayBuffer(file);\n",
              "    });\n",
              "    // Wait for the data to be ready.\n",
              "    let fileData = yield {\n",
              "      promise: fileDataPromise,\n",
              "      response: {\n",
              "        action: 'continue',\n",
              "      }\n",
              "    };\n",
              "\n",
              "    // Use a chunked sending to avoid message size limits. See b/62115660.\n",
              "    let position = 0;\n",
              "    do {\n",
              "      const length = Math.min(fileData.byteLength - position, MAX_PAYLOAD_SIZE);\n",
              "      const chunk = new Uint8Array(fileData, position, length);\n",
              "      position += length;\n",
              "\n",
              "      const base64 = btoa(String.fromCharCode.apply(null, chunk));\n",
              "      yield {\n",
              "        response: {\n",
              "          action: 'append',\n",
              "          file: file.name,\n",
              "          data: base64,\n",
              "        },\n",
              "      };\n",
              "\n",
              "      let percentDone = fileData.byteLength === 0 ?\n",
              "          100 :\n",
              "          Math.round((position / fileData.byteLength) * 100);\n",
              "      percent.textContent = `${percentDone}% done`;\n",
              "\n",
              "    } while (position < fileData.byteLength);\n",
              "  }\n",
              "\n",
              "  // All done.\n",
              "  yield {\n",
              "    response: {\n",
              "      action: 'complete',\n",
              "    }\n",
              "  };\n",
              "}\n",
              "\n",
              "scope.google = scope.google || {};\n",
              "scope.google.colab = scope.google.colab || {};\n",
              "scope.google.colab._files = {\n",
              "  _uploadFiles,\n",
              "  _uploadFilesContinue,\n",
              "};\n",
              "})(self);\n",
              "</script> "
            ]
          },
          "metadata": {}
        },
        {
          "output_type": "stream",
          "name": "stdout",
          "text": [
            "Saving ex37.xlsx to ex37.xlsx\n"
          ]
        }
      ]
    },
    {
      "cell_type": "code",
      "source": [
        "import io\n",
        " \n",
        "df = pd.read_excel(io.BytesIO(uploaded['ex37.xlsx']))\n",
        "print(df)\n",
        "\n"
      ],
      "metadata": {
        "id": "pxk_l7Yp2iD6",
        "colab": {
          "base_uri": "https://localhost:8080/"
        },
        "outputId": "c872fa27-cd19-4c36-b0e9-bb1a8b28183a"
      },
      "execution_count": 8,
      "outputs": [
        {
          "output_type": "stream",
          "name": "stdout",
          "text": [
            "        var1\n",
            "0  -0.542034\n",
            "1   0.528620\n",
            "2   0.625143\n",
            "3   0.193978\n",
            "4  -0.800259\n",
            "5  -0.303532\n",
            "6   1.086180\n",
            "7  -1.160182\n",
            "8   1.038314\n",
            "9  -0.815303\n",
            "10  0.416017\n",
            "11  1.297113\n",
            "12 -0.432866\n",
            "13  1.058744\n",
            "14  1.138776\n",
            "15  0.999913\n",
            "16  0.108967\n",
            "17 -0.390140\n",
            "18 -0.700645\n",
            "19  0.698312\n",
            "20  0.751571\n",
            "21  0.661245\n",
            "22 -0.964250\n",
            "23 -0.252193\n",
            "24  0.344255\n",
            "25  0.523882\n",
            "26 -0.163831\n",
            "27  0.048342\n",
            "28  0.605599\n",
            "29 -0.148273\n"
          ]
        }
      ]
    },
    {
      "cell_type": "code",
      "source": [
        "import numpy as np\n",
        "import pandas as pd\n",
        "from sklearn.preprocessing import PolynomialFeatures"
      ],
      "metadata": {
        "id": "MJN9H23653vM"
      },
      "execution_count": 9,
      "outputs": []
    },
    {
      "cell_type": "code",
      "source": [
        "np.set_printoptions(suppress=True, precision=3)\n"
      ],
      "metadata": {
        "id": "aeQ2CLGBKpz1"
      },
      "execution_count": 10,
      "outputs": []
    },
    {
      "cell_type": "code",
      "source": [
        "poly = PolynomialFeatures(degree=2)\n",
        "     \n",
        "df_poly = poly.fit_transform(df)\n",
        "print(df_poly)"
      ],
      "metadata": {
        "colab": {
          "base_uri": "https://localhost:8080/"
        },
        "id": "IYjHqgsdPRdu",
        "outputId": "da22ed02-e823-47cb-f089-014e0b172ccb"
      },
      "execution_count": 11,
      "outputs": [
        {
          "output_type": "stream",
          "name": "stdout",
          "text": [
            "[[ 1.    -0.542  0.294]\n",
            " [ 1.     0.529  0.279]\n",
            " [ 1.     0.625  0.391]\n",
            " [ 1.     0.194  0.038]\n",
            " [ 1.    -0.8    0.64 ]\n",
            " [ 1.    -0.304  0.092]\n",
            " [ 1.     1.086  1.18 ]\n",
            " [ 1.    -1.16   1.346]\n",
            " [ 1.     1.038  1.078]\n",
            " [ 1.    -0.815  0.665]\n",
            " [ 1.     0.416  0.173]\n",
            " [ 1.     1.297  1.683]\n",
            " [ 1.    -0.433  0.187]\n",
            " [ 1.     1.059  1.121]\n",
            " [ 1.     1.139  1.297]\n",
            " [ 1.     1.     1.   ]\n",
            " [ 1.     0.109  0.012]\n",
            " [ 1.    -0.39   0.152]\n",
            " [ 1.    -0.701  0.491]\n",
            " [ 1.     0.698  0.488]\n",
            " [ 1.     0.752  0.565]\n",
            " [ 1.     0.661  0.437]\n",
            " [ 1.    -0.964  0.93 ]\n",
            " [ 1.    -0.252  0.064]\n",
            " [ 1.     0.344  0.119]\n",
            " [ 1.     0.524  0.274]\n",
            " [ 1.    -0.164  0.027]\n",
            " [ 1.     0.048  0.002]\n",
            " [ 1.     0.606  0.367]\n",
            " [ 1.    -0.148  0.022]]\n"
          ]
        }
      ]
    }
  ]
}
