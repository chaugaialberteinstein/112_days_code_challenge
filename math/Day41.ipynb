{
  "nbformat": 4,
  "nbformat_minor": 0,
  "metadata": {
    "colab": {
      "provenance": [],
      "authorship_tag": "ABX9TyPUfYOfnhXL7h+z8OgpiQWB",
      "include_colab_link": true
    },
    "kernelspec": {
      "name": "python3",
      "display_name": "Python 3"
    },
    "language_info": {
      "name": "python"
    }
  },
  "cells": [
    {
      "cell_type": "markdown",
      "metadata": {
        "id": "view-in-github",
        "colab_type": "text"
      },
      "source": [
        "<a href=\"https://colab.research.google.com/github/chaugaialberteinstein/112_days_code_challenge/blob/main/math/Day41.ipynb\" target=\"_parent\"><img src=\"https://colab.research.google.com/assets/colab-badge.svg\" alt=\"Open In Colab\"/></a>"
      ]
    },
    {
      "cell_type": "markdown",
      "source": [
        "Exercise 41\n",
        "\n",
        "The following df DataFrame is given:\n",
        "\n",
        "\n",
        "           var1\n",
        "    0  1.161966\n",
        "    1  0.251008\n",
        "    2  0.948663\n",
        "    3 -0.141041\n",
        "    4  0.978152\n",
        "    5  0.496576\n",
        "    6 -0.006001\n",
        "    7 -0.350019\n",
        "    8 -0.693200\n",
        "    9 -2.422743\n",
        "\n",
        "\n",
        "Implement the sigmoid() function using the numpy package.\n",
        "\n",
        "The sigmoid function formula:\n",
        "\n",
        "Using the implemented function, calculate sigmoid values for the variable var1 and assign to the new column 'var1_sigmoid'.\n",
        "\n",
        "In response, print the df DataFrame to the console.\n",
        "\n",
        "\n",
        "Expected result:\n",
        "\n",
        "\n",
        "           var1  var1_sigmoid\n",
        "    0 -0.641820      0.344835\n",
        "    1  0.589989      0.643363\n",
        "    2 -1.257382      0.221425\n",
        "    3 -0.746267      0.321635\n",
        "    4 -0.284639      0.429317\n",
        "    5  0.388440      0.595907\n",
        "    6  0.361145      0.589317\n",
        "    7 -0.483657      0.381389\n",
        "    8 -1.344863      0.206711\n",
        "    9  0.085615      0.521391\n",
        "\n",
        "\n"
      ],
      "metadata": {
        "id": "eylKJyoBhdTy"
      }
    },
    {
      "cell_type": "code",
      "source": [
        "import numpy as np\n",
        "import pandas as pd"
      ],
      "metadata": {
        "id": "jomNh1RAhd54"
      },
      "execution_count": 1,
      "outputs": []
    },
    {
      "cell_type": "code",
      "source": [
        "np.random.seed(42)\n",
        "df = pd.DataFrame(data=np.random.randn(10), columns=['var1'])\n",
        "     "
      ],
      "metadata": {
        "id": "nAR-9y2rhtw9"
      },
      "execution_count": 2,
      "outputs": []
    },
    {
      "cell_type": "code",
      "source": [
        "def sigmoid(x):\n",
        "  return 1 / (1 + np.exp(-x))\n",
        "df['var1_sigmoid'] = df['var1'].apply(sigmoid)\n",
        "print(df)"
      ],
      "metadata": {
        "colab": {
          "base_uri": "https://localhost:8080/"
        },
        "id": "NE3RACJzhu7-",
        "outputId": "1bae14f6-2df3-4777-c6a0-9778b4165242"
      },
      "execution_count": 3,
      "outputs": [
        {
          "output_type": "stream",
          "name": "stdout",
          "text": [
            "       var1  var1_sigmoid\n",
            "0  0.496714      0.621687\n",
            "1 -0.138264      0.465489\n",
            "2  0.647689      0.656489\n",
            "3  1.523030      0.820984\n",
            "4 -0.234153      0.441728\n",
            "5 -0.234137      0.441732\n",
            "6  1.579213      0.829093\n",
            "7  0.767435      0.682966\n",
            "8 -0.469474      0.384741\n",
            "9  0.542560      0.632408\n"
          ]
        }
      ]
    }
  ]
}