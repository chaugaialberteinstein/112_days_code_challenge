{
  "nbformat": 4,
  "nbformat_minor": 0,
  "metadata": {
    "colab": {
      "provenance": [],
      "authorship_tag": "ABX9TyOpGCLvSPKiooEZU05kQj00",
      "include_colab_link": true
    },
    "kernelspec": {
      "name": "python3",
      "display_name": "Python 3"
    },
    "language_info": {
      "name": "python"
    }
  },
  "cells": [
    {
      "cell_type": "markdown",
      "metadata": {
        "id": "view-in-github",
        "colab_type": "text"
      },
      "source": [
        "<a href=\"https://colab.research.google.com/github/chaugaialberteinstein/112_days_code_challenge/blob/main/Day55.ipynb\" target=\"_parent\"><img src=\"https://colab.research.google.com/assets/colab-badge.svg\" alt=\"Open In Colab\"/></a>"
      ]
    },
    {
      "cell_type": "markdown",
      "source": [
        "Exercise 56\n",
        "\n",
        "The following list with text documents is given:\n",
        "\n",
        "\n",
        "    documents = [\n",
        "        'python is a programming language',\n",
        "        'python is popular',\n",
        "        'programming in python',\n",
        "        'object-oriented programming in python',\n",
        "        'programming language'\n",
        "    ]\n",
        "\n",
        "\n",
        "Vectorize the given documents using the TfidfVectorizer class from the scikit-learn.\n",
        "\n",
        "In resposne, print result as a DataFrame object as shown below.\n",
        "\n",
        "\n",
        "Tip: More about TfidfVectorizer class: https://scikit-learn.org/stable/modules/generated/sklearn.feature_extraction.text.TfidfVectorizer.html\n",
        "\n",
        "\n",
        "Expected result:\n",
        "\n",
        "\n",
        "          in     is  language  object  oriented  popular  programming  python\n",
        "    0  0.000  0.580      0.58   0.000     0.000    0.000        0.405   0.405\n",
        "    1  0.000  0.575      0.00   0.000     0.000    0.713        0.000   0.402\n",
        "    2  0.712  0.000      0.00   0.000     0.000    0.000        0.497   0.497\n",
        "    3  0.445  0.000      0.00   0.552     0.552    0.000        0.311   0.311\n",
        "    4  0.000  0.000      0.82   0.000     0.000    0.000        0.573   0.000\n",
        "\n",
        "\n"
      ],
      "metadata": {
        "id": "U4_Y0L8gA5Gg"
      }
    },
    {
      "cell_type": "code",
      "source": [
        "import pandas as pd\n",
        "import numpy as np\n"
      ],
      "metadata": {
        "id": "Eb4BKTLSA5iW"
      },
      "execution_count": null,
      "outputs": []
    },
    {
      "cell_type": "code",
      "source": [
        "from sklearn.feature_extraction.text import TfidfVectorizer\n",
        " \n",
        " \n",
        "pd.set_option('display.width', 200)\n",
        "pd.set_option('display.max_columns', 10)\n",
        "pd.set_option('precision', 3)"
      ],
      "metadata": {
        "id": "SYUsPDuYHPdQ"
      },
      "execution_count": null,
      "outputs": []
    },
    {
      "cell_type": "code",
      "source": [
        "documents = [\n",
        "    'python is a programming language',\n",
        "    'python is popular',\n",
        "    'programming in python',\n",
        "    'object-oriented programming in python'\n",
        "]\n",
        " "
      ],
      "metadata": {
        "id": "Doe43qruGYfi"
      },
      "execution_count": null,
      "outputs": []
    },
    {
      "cell_type": "code",
      "source": [
        "\n",
        "df = pd.DataFrame(\n",
        "    data=tfidf_vectorizer.fit_transform(documents).toarray(), \n",
        "    columns=tfidf_vectorizer.get_feature_names()\n",
        ")\n",
        "print(df)"
      ],
      "metadata": {
        "colab": {
          "base_uri": "https://localhost:8080/"
        },
        "id": "PKuwhKPUHcXK",
        "outputId": "f82dfd49-e709-4640-98d0-65edd6f4b62c"
      },
      "execution_count": null,
      "outputs": [
        {
          "output_type": "stream",
          "name": "stdout",
          "text": [
            "      in     is  language  object  oriented  popular  programming  python\n",
            "0  0.000  0.520     0.659    0.00      0.00    0.000        0.421   0.344\n",
            "1  0.000  0.573     0.000    0.00      0.00    0.727        0.000   0.379\n",
            "2  0.691  0.000     0.000    0.00      0.00    0.000        0.560   0.457\n",
            "3  0.434  0.000     0.000    0.55      0.55    0.000        0.351   0.287\n"
          ]
        },
        {
          "output_type": "stream",
          "name": "stderr",
          "text": [
            "/usr/local/lib/python3.7/dist-packages/sklearn/utils/deprecation.py:87: FutureWarning: Function get_feature_names is deprecated; get_feature_names is deprecated in 1.0 and will be removed in 1.2. Please use get_feature_names_out instead.\n",
            "  warnings.warn(msg, category=FutureWarning)\n"
          ]
        }
      ]
    }
  ]
}