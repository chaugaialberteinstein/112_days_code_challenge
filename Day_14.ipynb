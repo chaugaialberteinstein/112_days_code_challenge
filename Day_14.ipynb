{
  "nbformat": 4,
  "nbformat_minor": 0,
  "metadata": {
    "colab": {
      "provenance": [],
      "authorship_tag": "ABX9TyMwZKyrVrUvtsU55JSJ13X5",
      "include_colab_link": true
    },
    "kernelspec": {
      "name": "python3",
      "display_name": "Python 3"
    },
    "language_info": {
      "name": "python"
    }
  },
  "cells": [
    {
      "cell_type": "markdown",
      "metadata": {
        "id": "view-in-github",
        "colab_type": "text"
      },
      "source": [
        "<a href=\"https://colab.research.google.com/github/chaugaialberteinstein/112_days_code_challenge/blob/main/Day_14.ipynb\" target=\"_parent\"><img src=\"https://colab.research.google.com/assets/colab-badge.svg\" alt=\"Open In Colab\"/></a>"
      ]
    },
    {
      "cell_type": "markdown",
      "source": [
        "Exercise 14 [key checked]\n",
        "\n",
        "The df DataFrame is given below:\n",
        "\n",
        "\n",
        "                  hashtags\n",
        "    0          #good#vibes\n",
        "    1  #hot#summer#holiday\n",
        "    2         #street#food\n",
        "    3             #workout\n",
        "\n",
        "\n",
        "Split hashtags by the '#' sign using pd.Series.str.split() with argument expand = True. You will get four columns. For example, for the second row:\n",
        "\n",
        "\n",
        "    '#hot#summer#holiday'\n",
        "\n",
        "\n",
        "it returns the following list:\n",
        "\n",
        "\n",
        "    ['', 'hot', 'summer', 'holiday']\n",
        "\n",
        "\n",
        "Remove the first column from the result (the first column contains only empty strings ''). Then assign the names of the remaining columns as follows:\n",
        "\n",
        "    'hashtag1'\n",
        "\n",
        "    'hashtag2'\n",
        "\n",
        "    'hashtag3'\n",
        "\n",
        "In response, print result to the console.\n",
        "\n",
        "\n",
        "Expected result:\n",
        "\n",
        "\n",
        "      hashtag1 hashtag2 hashtag3\n",
        "    0     good    vibes     None\n",
        "    1      hot   summer  holiday\n",
        "    2   street     food     None\n",
        "    3  workout     None     None\n",
        "\n",
        "\n"
      ],
      "metadata": {
        "id": "Wi8GcFASL0l3"
      }
    },
    {
      "cell_type": "code",
      "source": [
        "import pandas as pd\n",
        "     \n",
        "     \n",
        "data_dict = {\n",
        "        'hashtags': [\n",
        "            '#good#vibes', \n",
        "            '#hot#summer#holiday', \n",
        "            '#street#food', \n",
        "            '#workout'\n",
        "        ]\n",
        "    }\n",
        "df = pd.DataFrame(data=data_dict)\n",
        "df = df['hashtags'].str.split('#', expand=True)\n",
        "df = df.drop(columns=[0])\n",
        "df.columns = ['hashtag1', 'hashtag2', 'hashtag3']\n",
        "print(df)\n",
        "\n"
      ],
      "metadata": {
        "colab": {
          "base_uri": "https://localhost:8080/"
        },
        "id": "cPwHSuYwL03X",
        "outputId": "be04918a-e21e-4ef8-f0b8-c09df6365432"
      },
      "execution_count": 2,
      "outputs": [
        {
          "output_type": "stream",
          "name": "stdout",
          "text": [
            "  hashtag1 hashtag2 hashtag3\n",
            "0     good    vibes     None\n",
            "1      hot   summer  holiday\n",
            "2   street     food     None\n",
            "3  workout     None     None\n"
          ]
        }
      ]
    }
  ]
}