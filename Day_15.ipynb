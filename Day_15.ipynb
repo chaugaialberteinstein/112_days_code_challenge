{
  "nbformat": 4,
  "nbformat_minor": 0,
  "metadata": {
    "colab": {
      "provenance": [],
      "authorship_tag": "ABX9TyPUwHVVrEg3duLvsUZE0/NJ",
      "include_colab_link": true
    },
    "kernelspec": {
      "name": "python3",
      "display_name": "Python 3"
    },
    "language_info": {
      "name": "python"
    }
  },
  "cells": [
    {
      "cell_type": "markdown",
      "metadata": {
        "id": "view-in-github",
        "colab_type": "text"
      },
      "source": [
        "<a href=\"https://colab.research.google.com/github/chaugaialberteinstein/112_days_code_challenge/blob/main/Day_15.ipynb\" target=\"_parent\"><img src=\"https://colab.research.google.com/assets/colab-badge.svg\" alt=\"Open In Colab\"/></a>"
      ]
    },
    {
      "cell_type": "markdown",
      "source": [
        "Exercise 15\n",
        "\n",
        "The df DataFrame is given below:\n",
        "\n",
        "\n",
        "      hashtag1 hashtag2 hashtag3\n",
        "    0     good    vibes     None\n",
        "    1      hot   summer  holiday\n",
        "    2   street     food     None\n",
        "    3  workout     None     None\n",
        "\n",
        "\n",
        "Create a new column 'missing' and assign the number of missing hashtags for each row as shown below. For example:\n",
        "\n",
        "    row one -> 1\n",
        "\n",
        "    row two -> 0\n",
        "\n",
        "    row three -> 1, etc.\n",
        "\n",
        "As an answer, print the df DataFrame to the console.\n",
        "\n",
        "\n",
        "Expected result:\n",
        "\n",
        "\n",
        "      hashtag1 hashtag2 hashtag3  missing\n",
        "    0     good    vibes     None        1\n",
        "    1      hot   summer  holiday        0\n",
        "    2   street     food     None        1\n",
        "    3  workout     None     None        2\n",
        "\n",
        "\n"
      ],
      "metadata": {
        "id": "NR6d-uwgIUad"
      }
    },
    {
      "cell_type": "code",
      "source": [
        "# df = pd.DataFrame({ 'hashtag1' : ['good' , 'hot' , 'street' , 'workout' ],\n",
        "#                    'hashtag2':['vibes','summer','food','None' ], \n",
        "#                    'hashtag3' :['None','holiday' , 'None]' })\n",
        "# df\n",
        "# df['missing'] = df[''].get_dummies()\n"
      ],
      "metadata": {
        "id": "zTbJCCs0IbOM"
      },
      "execution_count": 2,
      "outputs": []
    },
    {
      "cell_type": "code",
      "source": [
        "import pandas as pd\n",
        "     \n",
        "     \n",
        "data_dict = {\n",
        "        'hashtags': [\n",
        "            '#good#vibes', \n",
        "            '#hot#summer#holiday', \n",
        "            '#street#food', \n",
        "            '#workout'\n",
        "        ]\n",
        "    }\n",
        "df = pd.DataFrame(data=data_dict)\n",
        "df = df['hashtags'].str.split('#', expand=True)\n",
        "df = df.drop(columns=[0])\n",
        "df.columns = ['hashtag1', 'hashtag2', 'hashtag3']\n",
        "df['missing'] = df.isnull().sum(axis=1)\n",
        "print(df)"
      ],
      "metadata": {
        "colab": {
          "base_uri": "https://localhost:8080/"
        },
        "id": "aUj2PU0oIUxJ",
        "outputId": "e78ba91f-094f-46ed-909e-1fd7482ebeb8"
      },
      "execution_count": 3,
      "outputs": [
        {
          "output_type": "stream",
          "name": "stdout",
          "text": [
            "  hashtag1 hashtag2 hashtag3  missing\n",
            "0     good    vibes     None        1\n",
            "1      hot   summer  holiday        0\n",
            "2   street     food     None        1\n",
            "3  workout     None     None        2\n"
          ]
        }
      ]
    }
  ]
}