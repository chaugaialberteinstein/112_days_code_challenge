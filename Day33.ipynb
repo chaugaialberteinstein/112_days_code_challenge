{
  "nbformat": 4,
  "nbformat_minor": 0,
  "metadata": {
    "colab": {
      "provenance": [],
      "authorship_tag": "ABX9TyNBI3RTUHMQ5Sue+QcNQbEf",
      "include_colab_link": true
    },
    "kernelspec": {
      "name": "python3",
      "display_name": "Python 3"
    },
    "language_info": {
      "name": "python"
    }
  },
  "cells": [
    {
      "cell_type": "markdown",
      "metadata": {
        "id": "view-in-github",
        "colab_type": "text"
      },
      "source": [
        "<a href=\"https://colab.research.google.com/github/chaugaialberteinstein/112_days_code_challenge/blob/main/Day33.ipynb\" target=\"_parent\"><img src=\"https://colab.research.google.com/assets/colab-badge.svg\" alt=\"Open In Colab\"/></a>"
      ]
    },
    {
      "cell_type": "markdown",
      "source": [
        "Exercise 33 [ KEY CHECKED]\n",
        "\n",
        "The Breast Cancer Data was loaded into the data and target variables.\n",
        "\n",
        "\n",
        "Split the data into train and test sets:\n",
        "\n",
        "    train set: X_train, y_train\n",
        "\n",
        "    test set: X_test, y_test\n",
        "\n",
        "Keep the same distribution of values in the y_train and y_test arrays as in target array.\n",
        "\n",
        "In response, print the percentage distribution of target, y_train and y_test arrays.\n",
        "\n",
        "\n",
        "Expected result:\n",
        "\n",
        "\n",
        "    target :[0.37 0.63]\n",
        "    y_train:[0.37 0.63]\n",
        "    y_test :[0.37 0.63]\n",
        "\n",
        "\n"
      ],
      "metadata": {
        "id": "1p5Emy3jHOnO"
      }
    },
    {
      "cell_type": "code",
      "source": [
        "import pandas as pd\n",
        "import numpy as np\n",
        "from sklearn.datasets import load_breast_cancer\n",
        "from sklearn.model_selection import train_test_split\n"
      ],
      "metadata": {
        "id": "S8UDzpIaHPRp"
      },
      "execution_count": 1,
      "outputs": []
    },
    {
      "cell_type": "code",
      "source": [
        "pd.set_option('display.max_columns', 10)\n",
        "pd.set_option('display.width', 200)\n",
        "np.set_printoptions(precision=2, suppress=True, linewidth=100)\n",
        "raw_data = load_breast_cancer()\n",
        "     "
      ],
      "metadata": {
        "id": "mjXf0kvELJSn"
      },
      "execution_count": 4,
      "outputs": []
    },
    {
      "cell_type": "code",
      "source": [
        "data = raw_data['data']\n",
        "target = raw_data['target']\n",
        "\n",
        "X_train, X_test, y_train, y_test = train_test_split(\n",
        "        data, \n",
        "        target, \n",
        "        random_state=40, \n",
        "        test_size=0.25, \n",
        "        stratify=target\n",
        "    )"
      ],
      "metadata": {
        "id": "mw46gaW8LOfL"
      },
      "execution_count": 5,
      "outputs": []
    },
    {
      "cell_type": "code",
      "source": [
        "for name, array in zip(['target', 'y_train', 'y_test'], [target, y_train, y_test]):\n",
        "    print(f'{name.ljust(7)}:{np.unique(array, return_counts=True)[1] / len(array)}')"
      ],
      "metadata": {
        "colab": {
          "base_uri": "https://localhost:8080/"
        },
        "id": "AORvcNeSLUCo",
        "outputId": "cd3a2b11-ebf5-493c-9311-30f3a3ddcda0"
      },
      "execution_count": 6,
      "outputs": [
        {
          "output_type": "stream",
          "name": "stdout",
          "text": [
            "target :[0.37 0.63]\n",
            "y_train:[0.37 0.63]\n",
            "y_test :[0.37 0.63]\n"
          ]
        }
      ]
    }
  ]
}