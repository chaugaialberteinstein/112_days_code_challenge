{
  "nbformat": 4,
  "nbformat_minor": 0,
  "metadata": {
    "colab": {
      "provenance": [],
      "authorship_tag": "ABX9TyMGMOP4P/HtvBHQ/WXxPQeF",
      "include_colab_link": true
    },
    "kernelspec": {
      "name": "python3",
      "display_name": "Python 3"
    },
    "language_info": {
      "name": "python"
    }
  },
  "cells": [
    {
      "cell_type": "markdown",
      "metadata": {
        "id": "view-in-github",
        "colab_type": "text"
      },
      "source": [
        "<a href=\"https://colab.research.google.com/github/chaugaialberteinstein/112_days_code_challenge/blob/main/Day26.ipynb\" target=\"_parent\"><img src=\"https://colab.research.google.com/assets/colab-badge.svg\" alt=\"Open In Colab\"/></a>"
      ]
    },
    {
      "cell_type": "markdown",
      "source": [
        "Exercise 26\n",
        "\n",
        "The df DataFrame is given below:\n",
        "\n",
        "\n",
        "      size  color  gender  price  weight bought\n",
        "    0   XL    red  female  199.0     500    yes\n",
        "    1    L  green    male   89.0     450     no\n",
        "    2    M   blue    male   99.0     300    yes\n",
        "    3    L  green  female  129.0     380     no\n",
        "    4    M    red  female   79.0     410    yes\n",
        "\n",
        "\n",
        "Using the OneHotEncoder from the scikit-learn package, encode the size column as a one-hot numeric array. (set the parameter sparse=False).\n",
        "\n",
        "In response, print the encoded size column to the console (don't assign changes to the df DataFrame). Also print the encoding categories to the console as shown below.\n",
        "\n",
        "\n",
        "Tip: More about OneHotEncoder class: https://scikit-learn.org/stable/modules/generated/sklearn.preprocessing.OneHotEncoder.html\n",
        "\n",
        "\n",
        "Expected result:\n",
        "\n",
        "\n",
        "    [[0. 0. 1.]\n",
        "     [1. 0. 0.]\n",
        "     [0. 1. 0.]\n",
        "     [1. 0. 0.]\n",
        "     [0. 1. 0.]]\n",
        "    [array(['L', 'M', 'XL'], dtype=object)]"
      ],
      "metadata": {
        "id": "nGYycWQiRUOY"
      }
    },
    {
      "cell_type": "code",
      "source": [
        "    import pandas as pd\n",
        "    from sklearn.preprocessing import OneHotEncoder\n",
        "     \n"
      ],
      "metadata": {
        "id": "bqfc1Z0CRUq4"
      },
      "execution_count": 1,
      "outputs": []
    },
    {
      "cell_type": "code",
      "source": [
        "\n",
        "    data = {\n",
        "        'size': ['XL', 'L', 'M', 'L', 'M'],\n",
        "        'color': ['red', 'green', 'blue', 'green', 'red'],\n",
        "        'gender': ['female', 'male', 'male', 'female', 'female'],\n",
        "        'price': [199.0, 89.0, 99.0, 129.0, 79.0],\n",
        "        'weight': [500, 450, 300, 380, 410],\n",
        "        'bought': ['yes', 'no', 'yes', 'no', 'yes']\n",
        "    }\n",
        "     \n",
        "          \n",
        "\n",
        "    df = pd.DataFrame(data=data)"
      ],
      "metadata": {
        "id": "gIsRUNGvR3I8"
      },
      "execution_count": 2,
      "outputs": []
    },
    {
      "cell_type": "code",
      "source": [
        "\n",
        "    for col in ['size', 'color', 'gender', 'bought']:\n",
        "        df[col] = df[col].astype('category')\n",
        "    df['weight'] = df['weight'].astype('float')\n",
        "     "
      ],
      "metadata": {
        "id": "T_yxo0DTR3SB"
      },
      "execution_count": 3,
      "outputs": []
    },
    {
      "cell_type": "code",
      "source": [
        "\n",
        "    encoder = OneHotEncoder(sparse=False)\n",
        "    encoder.fit(df[['size']])\n",
        "    print(encoder.transform(df[['size']]))\n",
        "    print(encoder.categories_)"
      ],
      "metadata": {
        "colab": {
          "base_uri": "https://localhost:8080/"
        },
        "id": "ybPnUWB3R2Vl",
        "outputId": "132af68e-4d15-4e51-ecc9-a979e6f09515"
      },
      "execution_count": 4,
      "outputs": [
        {
          "output_type": "stream",
          "name": "stdout",
          "text": [
            "[[0. 0. 1.]\n",
            " [1. 0. 0.]\n",
            " [0. 1. 0.]\n",
            " [1. 0. 0.]\n",
            " [0. 1. 0.]]\n",
            "[array(['L', 'M', 'XL'], dtype=object)]\n"
          ]
        }
      ]
    }
  ]
}