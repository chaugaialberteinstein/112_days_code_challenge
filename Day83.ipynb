{
  "nbformat": 4,
  "nbformat_minor": 0,
  "metadata": {
    "colab": {
      "provenance": [],
      "authorship_tag": "ABX9TyPwXPWPVWZNWNY7Xr5ymOnj",
      "include_colab_link": true
    },
    "kernelspec": {
      "name": "python3",
      "display_name": "Python 3"
    },
    "language_info": {
      "name": "python"
    }
  },
  "cells": [
    {
      "cell_type": "markdown",
      "metadata": {
        "id": "view-in-github",
        "colab_type": "text"
      },
      "source": [
        "<a href=\"https://colab.research.google.com/github/chaugaialberteinstein/112_days_code_challenge/blob/main/Day83.ipynb\" target=\"_parent\"><img src=\"https://colab.research.google.com/assets/colab-badge.svg\" alt=\"Open In Colab\"/></a>"
      ]
    },
    {
      "cell_type": "markdown",
      "source": [
        "Exercise 83\n",
        "\n",
        "Using the load_digits() function from the scikit-learn package, load image data with the 8x8 resolution into the following variables:\n",
        "\n",
        "    data - images as a numpy array with (1797, 64) shape\n",
        "\n",
        "    target - labels as a numpy array with (1797,) shape \n",
        "\n",
        "Explore this dataset. Try to display some images. You can use the matplotlib package to display the image as follows (in an external IDE):\n",
        "\n",
        "\n",
        "    import matplotlib.pyplot as plt\n",
        "     \n",
        "    idx = 50\n",
        "    plt.imshow(data[idx].reshape(8, 8), cmap='gray_r')\n",
        "    plt.title(f'Label: {target[idx]}')\n",
        "    plt.show()\n",
        "\n",
        "\n",
        "what should return:\n",
        "\n",
        "\n",
        "Change the value of the variable idx and check more images. As an answer, print the label for the image with idx = 250.\n",
        "\n",
        "\n",
        "Tip: More about load_digits() function: https://scikit-learn.org/stable/modules/generated/sklearn.datasets.load_digits.html\n",
        "\n",
        "\n",
        "Expected Result:\n",
        "\n",
        "\n",
        "    4"
      ],
      "metadata": {
        "id": "W9mtPJhn0WHg"
      }
    },
    {
      "cell_type": "code",
      "source": [
        "import numpy as np\n",
        "import pandas as pd\n",
        "import matplotlib as plt"
      ],
      "metadata": {
        "id": "ZFd61Maj0Wii"
      },
      "execution_count": 1,
      "outputs": []
    },
    {
      "cell_type": "code",
      "source": [
        "from sklearn.datasets import load_digits\n",
        "from sklearn.neighbors import KNeighborsClassifier\n",
        "from sklearn.model_selection import train_test_split"
      ],
      "metadata": {
        "id": "mUNT-37L5cGY"
      },
      "execution_count": 2,
      "outputs": []
    },
    {
      "cell_type": "code",
      "source": [
        "np.random.seed(42)\n",
        "data, target = load_digits(return_X_y = True)"
      ],
      "metadata": {
        "id": "_6cQGDX35q0z"
      },
      "execution_count": 3,
      "outputs": []
    },
    {
      "cell_type": "code",
      "source": [
        "idx = 250\n",
        "plt.pyplot.imshow(data[idx].reshape(8,8),cmap='gray_r')\n",
        "plt.pyplot.title(f'Label:{target[idx]}')"
      ],
      "metadata": {
        "colab": {
          "base_uri": "https://localhost:8080/",
          "height": 299
        },
        "id": "tJ4npCeQ50P4",
        "outputId": "552daa07-5932-4879-c976-0179accd7f43"
      },
      "execution_count": 6,
      "outputs": [
        {
          "output_type": "execute_result",
          "data": {
            "text/plain": [
              "Text(0.5, 1.0, 'Label:4')"
            ]
          },
          "metadata": {},
          "execution_count": 6
        },
        {
          "output_type": "display_data",
          "data": {
            "text/plain": [
              "<Figure size 432x288 with 1 Axes>"
            ],
            "image/png": "[encoded data removed]"
          },
          "metadata": {
            "needs_background": "light"
          }
        }
      ]
    },
    {
      "cell_type": "code",
      "source": [
        "print(target[250])"
      ],
      "metadata": {
        "colab": {
          "base_uri": "https://localhost:8080/"
        },
        "id": "ox3jDu8u6Dgu",
        "outputId": "9aab3ef2-f0b5-4067-b221-174394e941cb"
      },
      "execution_count": 7,
      "outputs": [
        {
          "output_type": "stream",
          "name": "stdout",
          "text": [
            "4\n"
          ]
        }
      ]
    }
  ]
}