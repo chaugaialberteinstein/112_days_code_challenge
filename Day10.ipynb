{
  "nbformat": 4,
  "nbformat_minor": 0,
  "metadata": {
    "colab": {
      "provenance": [],
      "authorship_tag": "ABX9TyMeW4hG4mFwGQ/5n0YInvO0",
      "include_colab_link": true
    },
    "kernelspec": {
      "name": "python3",
      "display_name": "Python 3"
    },
    "language_info": {
      "name": "python"
    }
  },
  "cells": [
    {
      "cell_type": "markdown",
      "metadata": {
        "id": "view-in-github",
        "colab_type": "text"
      },
      "source": [
        "<a href=\"https://colab.research.google.com/github/chaugaialberteinstein/112_days_code_challenge/blob/main/Day10.ipynb\" target=\"_parent\"><img src=\"https://colab.research.google.com/assets/colab-badge.svg\" alt=\"Open In Colab\"/></a>"
      ]
    },
    {
      "cell_type": "markdown",
      "source": [
        "Exercise 10 : [key_checked]\n",
        "\n",
        "The df DataFrame is given below:\n",
        "\n",
        "\n",
        "    df = pd.DataFrame(data={'weight': [75., 78.5, 85., 91., 84.5, 83., 68.]})\n",
        "\n",
        "\n",
        "Discretize the column weight into three intervals with the given boundaries:\n",
        "\n",
        "    (60, 75]\n",
        "\n",
        "    (75, 80]\n",
        "\n",
        "    (80, 95]\n",
        "\n",
        "and bound to them the following labels:\n",
        "\n",
        "    light\n",
        "\n",
        "    normal\n",
        "\n",
        "    heavy\n",
        "\n",
        "Assign the result to the new column 'weight_cut' as show below.\n",
        "\n",
        "In response, print the df DataFrame to the console.\n",
        "\n",
        "\n",
        "Expected result:\n",
        "\n",
        "\n",
        "       weight weight_cut\n",
        "    0    75.0      light\n",
        "    1    78.5     normal\n",
        "    2    85.0      heavy\n",
        "    3    91.0      heavy\n",
        "    4    84.5      heavy\n",
        "    5    83.0      heavy\n",
        "    6    68.0      light\n",
        "\n",
        "\n"
      ],
      "metadata": {
        "id": "lo7tsK3hhD7q"
      }
    },
    {
      "cell_type": "code",
      "source": [
        "    import pandas as pd\n",
        "     \n",
        "     \n",
        "    df = pd.DataFrame(data={'weight': [75., 78.5, 85., 91., 84.5, 83., 68.]})\n",
        "    df['weight_cut'] = pd.cut(\n",
        "        df['weight'], \n",
        "        bins=(60, 75, 80, 95), \n",
        "        labels=['light', 'normal', 'heavy']\n",
        "    )\n",
        "    print(df)"
      ],
      "metadata": {
        "colab": {
          "base_uri": "https://localhost:8080/"
        },
        "id": "5ApvSitbhHHN",
        "outputId": "a985d61d-4909-4c35-ca25-9013d4ca4368"
      },
      "execution_count": 1,
      "outputs": [
        {
          "output_type": "stream",
          "name": "stdout",
          "text": [
            "   weight weight_cut\n",
            "0    75.0      light\n",
            "1    78.5     normal\n",
            "2    85.0      heavy\n",
            "3    91.0      heavy\n",
            "4    84.5      heavy\n",
            "5    83.0      heavy\n",
            "6    68.0      light\n"
          ]
        }
      ]
    }
  ]
}