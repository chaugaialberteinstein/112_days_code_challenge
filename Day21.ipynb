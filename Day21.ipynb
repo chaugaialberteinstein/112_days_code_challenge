{
  "nbformat": 4,
  "nbformat_minor": 0,
  "metadata": {
    "colab": {
      "provenance": [],
      "authorship_tag": "ABX9TyM3M5friUi8ZEUPrpEG09X2",
      "include_colab_link": true
    },
    "kernelspec": {
      "name": "python3",
      "display_name": "Python 3"
    },
    "language_info": {
      "name": "python"
    }
  },
  "cells": [
    {
      "cell_type": "markdown",
      "metadata": {
        "id": "view-in-github",
        "colab_type": "text"
      },
      "source": [
        "<a href=\"https://colab.research.google.com/github/chaugaialberteinstein/112_days_code_challenge/blob/main/Day21.ipynb\" target=\"_parent\"><img src=\"https://colab.research.google.com/assets/colab-badge.svg\" alt=\"Open In Colab\"/></a>"
      ]
    },
    {
      "cell_type": "markdown",
      "source": [
        "*Exercise* 21\n",
        "\n",
        "The IRIS dataset was loaded into data and target variables. These datasets was spitted into the training set (data_train, target_train) and the test set (data_test, target_test).\n",
        "\n",
        "The logistic regression model was built using the scikit-learn package.\n",
        "\n",
        "\n",
        "Using this model make a prediction on the test set and assign to target_pred variable.\n",
        "\n",
        "In response, print the target_pred variable to the console.\n",
        "\n",
        "\n",
        "Tip: More about LogisticRegression class: https://scikit-learn.org/stable/modules/generated/sklearn.linear_model.LogisticRegression.html\n",
        "\n",
        "\n",
        "Expected result:\n",
        "\n",
        "\n",
        "    [0 1 1 2 1 1 2 0 2 0 2 1 1 0 0 2 0 1 2 1 1 2 2 0 1 1 1 0 2 1 1 1 0 0 0 1 1\n",
        "     0 1 2 1 2 0 1 1]\n",
        "\n",
        "\n"
      ],
      "metadata": {
        "id": "9jkxMFTcl7YO"
      }
    },
    {
      "cell_type": "code",
      "source": [
        "#The IRIS dataset was loaded into data and target variables.\n",
        "from sklearn.datasets import load_iris\n",
        "from sklearn.model_selection import train_test_split\n"
      ],
      "metadata": {
        "id": "UXbqitxAsEY_"
      },
      "execution_count": null,
      "outputs": []
    },
    {
      "cell_type": "code",
      "source": [
        "data_raw = load_iris()\n",
        "data = data_raw['data']\n",
        "target = data_raw['target']"
      ],
      "metadata": {
        "id": "7vPYaIC2r_At"
      },
      "execution_count": null,
      "outputs": []
    },
    {
      "cell_type": "code",
      "source": [
        "# These datasets was spitted into the training set (data_train, target_train) and the test set (data_test, target_test).\n",
        "data_train,data_test , target_train , target_test = train_test_split(data, target,test_size=0.3 , random_state = 20)\n"
      ],
      "metadata": {
        "id": "fQ4KZSdKr_6s"
      },
      "execution_count": null,
      "outputs": []
    },
    {
      "cell_type": "code",
      "source": [
        "\n",
        "# The logistic regression model was built using the scikit-learn package.\n",
        "from sklearn.linear_model import LogisticRegression\n",
        "model = LogisticRegression(max_iter=1000)\n",
        "\n",
        "model.fit(data_train, target_train)\n",
        "\n",
        "# Using this model make a prediction on the test set and assign to target_pred variable.\n",
        "target_pred = model.predict(data_test)\n",
        "# print the target_pred variable to the console.\n",
        "print(target_pred)\n"
      ],
      "metadata": {
        "colab": {
          "base_uri": "https://localhost:8080/"
        },
        "id": "mlUXuM6jsHbX",
        "outputId": "6666e262-2018-4997-ed4b-64acc16c4437"
      },
      "execution_count": null,
      "outputs": [
        {
          "output_type": "stream",
          "name": "stdout",
          "text": [
            "[0 1 1 2 1 1 2 0 2 0 2 1 1 0 0 2 0 1 2 1 1 2 2 0 1 1 1 0 2 1 1 1 0 0 0 1 1\n",
            " 0 1 2 1 2 0 1 1]\n"
          ]
        }
      ]
    }
  ]
}