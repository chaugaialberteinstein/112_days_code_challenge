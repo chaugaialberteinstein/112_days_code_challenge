{
  "nbformat": 4,
  "nbformat_minor": 0,
  "metadata": {
    "colab": {
      "provenance": [],
      "authorship_tag": "ABX9TyMQbVwbMggvnY7bDP6ciHpU",
      "include_colab_link": true
    },
    "kernelspec": {
      "name": "python3",
      "display_name": "Python 3"
    },
    "language_info": {
      "name": "python"
    }
  },
  "cells": [
    {
      "cell_type": "markdown",
      "metadata": {
        "id": "view-in-github",
        "colab_type": "text"
      },
      "source": [
        "<a href=\"https://colab.research.google.com/github/chaugaialberteinstein/112_days_code_challenge/blob/main/Day36.ipynb\" target=\"_parent\"><img src=\"https://colab.research.google.com/assets/colab-badge.svg\" alt=\"Open In Colab\"/></a>"
      ]
    },
    {
      "cell_type": "markdown",
      "source": [
        "Exercise 36 [A change in result has been applied to this problem cause of the complex attachment ]\n",
        "\n",
        "Load data file into a DataFrame and assign to df variable.\n",
        "\n",
        "Then, based on the variable column, create a linear regression model that allows you to predict the values of the target column (create the model based on all available data). Use the scikit-learn package and the LinearRegression class.\n",
        "\n",
        "Evaluate the model using score() and print the result (to four decimal places) to the console as shown below.\n",
        "\n",
        "\n",
        "Tip: More about the LinearRegression class: https://scikit-learn.org/stable/modules/generated/sklearn.linear_model.LinearRegression.html\n",
        "\n",
        "\n",
        "Expected result:\n",
        "\n",
        "\n",
        "    0.7743\n",
        "\n",
        "\n"
      ],
      "metadata": {
        "id": "I5YKIm2uiR5p"
      }
    },
    {
      "cell_type": "code",
      "source": [
        "import numpy as np\n",
        "import pandas as pd\n",
        "from sklearn.linear_model import LinearRegression\n",
        "from sklearn.datasets import load_breast_cancer\n"
      ],
      "metadata": {
        "id": "ViEFLI-riTiP"
      },
      "execution_count": 2,
      "outputs": []
    },
    {
      "cell_type": "code",
      "source": [
        "data= load_breast_cancer()    \n",
        "dataa = data['data']\n",
        "target = data['target']"
      ],
      "metadata": {
        "id": "a27lq6Dui0rV"
      },
      "execution_count": 6,
      "outputs": []
    },
    {
      "cell_type": "code",
      "source": [
        "\n",
        "model = LinearRegression()\n",
        "model.fit(dataa, target)\n",
        "print(f'{model.score(dataa, target):.4f}')\n",
        "\n"
      ],
      "metadata": {
        "colab": {
          "base_uri": "https://localhost:8080/"
        },
        "id": "oINrJeWvi1CN",
        "outputId": "2ad87150-8fab-4395-fd86-284cf4f11790"
      },
      "execution_count": 8,
      "outputs": [
        {
          "output_type": "stream",
          "name": "stdout",
          "text": [
            "0.7743\n"
          ]
        }
      ]
    }
  ]
}