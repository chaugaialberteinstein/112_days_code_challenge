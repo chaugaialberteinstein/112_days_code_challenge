{
  "nbformat": 4,
  "nbformat_minor": 0,
  "metadata": {
    "colab": {
      "provenance": [],
      "authorship_tag": "ABX9TyMeAGqo/35qc86KKxdGxG1r",
      "include_colab_link": true
    },
    "kernelspec": {
      "name": "python3",
      "display_name": "Python 3"
    },
    "language_info": {
      "name": "python"
    }
  },
  "cells": [
    {
      "cell_type": "markdown",
      "metadata": {
        "id": "view-in-github",
        "colab_type": "text"
      },
      "source": [
        "<a href=\"https://colab.research.google.com/github/chaugaialberteinstein/112_days_code_challenge/blob/main/Day35.ipynb\" target=\"_parent\"><img src=\"https://colab.research.google.com/assets/colab-badge.svg\" alt=\"Open In Colab\"/></a>"
      ]
    },
    {
      "cell_type": "markdown",
      "source": [
        "Exercise 35 [key checked]\n",
        "Linear regression = intercept + coefficient\n",
        "\n",
        "The following df DataFrame is given:\n",
        "\n",
        "\n",
        "       years  salary\n",
        "    0      1    4000\n",
        "    1      2    4250\n",
        "    2      3    4500\n",
        "    3      4    4750\n",
        "    4      5    5000\n",
        "    5      6    5250\n",
        "\n",
        "\n",
        "The first column describes the years of experience (feature variable), the second column describes the salary (target variable).\n",
        "\n",
        "\n",
        "Using the scikit-learn package and the LinearRegression class, find the linear regression equation for this problem.\n",
        "\n",
        "In response, print the result to the console as shown below.\n",
        "\n",
        "\n",
        "Tip: More about LinearRegression class: https://scikit-learn.org/stable/modules/generated/sklearn.linear_model.LinearRegression.html\n",
        "\n",
        "\n",
        "Expected result:\n",
        "\n",
        "\n",
        "    Linear regression: 3750.00 + 250.00x\n",
        "\n",
        "\n"
      ],
      "metadata": {
        "id": "qIa7XDhMYq7x"
      }
    },
    {
      "cell_type": "code",
      "source": [
        "import numpy as np\n",
        "import pandas as pd\n",
        "from sklearn.linear_model import LinearRegression\n",
        "    "
      ],
      "metadata": {
        "id": "YWrQuKqTYrrg"
      },
      "execution_count": 1,
      "outputs": []
    },
    {
      "cell_type": "code",
      "source": [
        "df = pd.DataFrame({'years': [1, 2, 3, 4, 5, 6],\n",
        "                       'salary': [4000, 4250, 4500, 4750, 5000, 5250]})\n",
        "     "
      ],
      "metadata": {
        "id": "zoiVpQuqdo3I"
      },
      "execution_count": 2,
      "outputs": []
    },
    {
      "cell_type": "code",
      "source": [
        "model = LinearRegression()\n",
        "model.fit(df[['years']], df[['salary']])\n",
        "     \n",
        "print(f'Linear regression: {model.intercept_[0]:.2f} '\n",
        "          f'+ {model.coef_[0][0]:.2f}x')"
      ],
      "metadata": {
        "colab": {
          "base_uri": "https://localhost:8080/"
        },
        "id": "yPzm-chsdsIY",
        "outputId": "82ab1194-4c80-4af6-f0ff-cb7b20282eb4"
      },
      "execution_count": 3,
      "outputs": [
        {
          "output_type": "stream",
          "name": "stdout",
          "text": [
            "Linear regression: 3750.00 + 250.00x\n"
          ]
        }
      ]
    }
  ]
}