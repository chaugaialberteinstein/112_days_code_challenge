{
  "nbformat": 4,
  "nbformat_minor": 0,
  "metadata": {
    "colab": {
      "provenance": [],
      "authorship_tag": "ABX9TyPRyQ9+QitlHYEcQGmQQ91I",
      "include_colab_link": true
    },
    "kernelspec": {
      "name": "python3",
      "display_name": "Python 3"
    },
    "language_info": {
      "name": "python"
    }
  },
  "cells": [
    {
      "cell_type": "markdown",
      "metadata": {
        "id": "view-in-github",
        "colab_type": "text"
      },
      "source": [
        "<a href=\"https://colab.research.google.com/github/chaugaialberteinstein/112_days_code_challenge/blob/main/Day54.ipynb\" target=\"_parent\"><img src=\"https://colab.research.google.com/assets/colab-badge.svg\" alt=\"Open In Colab\"/></a>"
      ]
    },
    {
      "cell_type": "markdown",
      "source": [
        "Exercise 54\n",
        "\n",
        "The following list with text documents is given:\n",
        "\n",
        "\n",
        "    documents = [\n",
        "        'python is a programming language',\n",
        "        'python is popular',\n",
        "        'programming in python',\n",
        "        'object-oriented programming in python'\n",
        "    ]\n",
        "\n",
        "\n",
        "Vectorize your documents with the CountVectorizer class from the scikit-learn. Use the stop_words argument and set its value to 'english'.\n",
        "\n",
        "In response, print the result as a DataFrame object as shown below.\n",
        "\n",
        "\n",
        "Tip: More about CountVectorizer class: https://scikit-learn.org/stable/modules/generated/sklearn.feature_extraction.text.CountVectorizer.html\n",
        "\n",
        "\n",
        "Expected result:\n",
        "\n",
        "\n",
        "       language  object  oriented  popular  programming  python\n",
        "    0         1       0         0        0            1       1\n",
        "    1         0       0         0        1            0       1\n",
        "    2         0       0         0        0            1       1\n",
        "    3         0       1         1        0            1       1\n",
        "\n",
        "\n"
      ],
      "metadata": {
        "id": "nCHM9z66URcN"
      }
    },
    {
      "cell_type": "code",
      "source": [
        "import numpy as np\n",
        "import pandas as pd\n",
        " \n",
        "from sklearn.feature_extraction.text import CountVectorizer\n",
        " "
      ],
      "metadata": {
        "id": "o17No116Urga"
      },
      "execution_count": 1,
      "outputs": []
    },
    {
      "cell_type": "code",
      "source": [
        "documents = [\n",
        "    'python is a programming language',\n",
        "    'python is popular',\n",
        "    'programming in python',\n",
        "    'object-oriented programming in python'\n",
        "]"
      ],
      "metadata": {
        "id": "Ud_ExKLtUvPU"
      },
      "execution_count": 2,
      "outputs": []
    },
    {
      "cell_type": "code",
      "source": [
        "# Vectorize your documents with the CountVectorizer class from the scikit-learn.\n",
        "#  Use the stop_words argument and set its value to 'english'.\n",
        "\n",
        "vectorizer = CountVectorizer(stop_words='english')\n",
        " \n",
        "df = pd.DataFrame(data=vectorizer.fit_transform(documents).toarray(), \n",
        "                  columns=vectorizer.get_feature_names())\n",
        "print(df)\n",
        "\n"
      ],
      "metadata": {
        "colab": {
          "base_uri": "https://localhost:8080/"
        },
        "id": "Q1JyA-xKUSD4",
        "outputId": "4c2f827c-79a8-4446-eebf-456ff0b1769f"
      },
      "execution_count": 3,
      "outputs": [
        {
          "output_type": "stream",
          "name": "stdout",
          "text": [
            "   language  object  oriented  popular  programming  python\n",
            "0         1       0         0        0            1       1\n",
            "1         0       0         0        1            0       1\n",
            "2         0       0         0        0            1       1\n",
            "3         0       1         1        0            1       1\n"
          ]
        },
        {
          "output_type": "stream",
          "name": "stderr",
          "text": [
            "/usr/local/lib/python3.7/dist-packages/sklearn/utils/deprecation.py:87: FutureWarning: Function get_feature_names is deprecated; get_feature_names is deprecated in 1.0 and will be removed in 1.2. Please use get_feature_names_out instead.\n",
            "  warnings.warn(msg, category=FutureWarning)\n"
          ]
        }
      ]
    }
  ]
}