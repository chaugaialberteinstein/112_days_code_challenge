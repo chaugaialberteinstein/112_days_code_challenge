{
  "nbformat": 4,
  "nbformat_minor": 0,
  "metadata": {
    "colab": {
      "provenance": [],
      "authorship_tag": "ABX9TyO0u3ZDBCvS/ByiHUozPCie",
      "include_colab_link": true
    },
    "kernelspec": {
      "name": "python3",
      "display_name": "Python 3"
    },
    "language_info": {
      "name": "python"
    }
  },
  "cells": [
    {
      "cell_type": "markdown",
      "metadata": {
        "id": "view-in-github",
        "colab_type": "text"
      },
      "source": [
        "<a href=\"https://colab.research.google.com/github/chaugaialberteinstein/112_days_code_challenge/blob/main/Day84.ipynb\" target=\"_parent\"><img src=\"https://colab.research.google.com/assets/colab-badge.svg\" alt=\"Open In Colab\"/></a>"
      ]
    },
    {
      "cell_type": "markdown",
      "source": [
        "Exercise 84\n",
        "\n",
        "Using the load_digits() function from the scikit-learn package image data was loaded into the following variables:\n",
        "\n",
        "    data - images as a numpy array with (1797, 64) shape\n",
        "\n",
        "    target - labels as a numpy array with (1797,) shape \n",
        "\n",
        "Standardize the data variable. Then using the train_test_split() function (set the parameter random_state=42) split the data into train and test set:\n",
        "\n",
        "    X_train, y_train\n",
        "\n",
        "    X_test, y_test\n",
        "\n",
        "In response, print the shapes of these arrays as shown below.\n",
        "\n",
        "\n",
        "Expected result:\n",
        "\n",
        "\n",
        "    X_train shape: (1347, 64)\n",
        "    y_train shape: (1347,)\n",
        "    X_test shape: (450, 64)\n",
        "    y_test shape: (450,)"
      ],
      "metadata": {
        "id": "3NYmVSSZ1UMy"
      }
    },
    {
      "cell_type": "code",
      "source": [
        "import numpy as np\n",
        "import pandas as pd"
      ],
      "metadata": {
        "id": "gkvGntMs1Ujr"
      },
      "execution_count": 1,
      "outputs": []
    },
    {
      "cell_type": "code",
      "source": [
        "from sklearn.datasets import load_digits\n",
        "from sklearn.model_selection import train_test_split"
      ],
      "metadata": {
        "id": "Jo1_m9C-1eK9"
      },
      "execution_count": 2,
      "outputs": []
    },
    {
      "cell_type": "code",
      "source": [
        "np.random.seed(42)\n",
        "data,target = load_digits(return_X_y= True)\n",
        "data = data/data.max()"
      ],
      "metadata": {
        "id": "cBjGvLPI1lTh"
      },
      "execution_count": 3,
      "outputs": []
    },
    {
      "cell_type": "code",
      "source": [
        "X_train , X_test , y_train , y_test = train_test_split(\n",
        "    data,\n",
        "    target,\n",
        "    random_state = 42\n",
        ")"
      ],
      "metadata": {
        "id": "aUYr8UdB1vUY"
      },
      "execution_count": 4,
      "outputs": []
    },
    {
      "cell_type": "code",
      "source": [
        "print(f'X_train shape: {X_train.shape}')\n",
        "print(f'y_train shape: {y_train.shape}')\n",
        "print(f'X_test shape: {X_test.shape}')\n",
        "print(f'y_test shape: {y_test.shape}')"
      ],
      "metadata": {
        "colab": {
          "base_uri": "https://localhost:8080/"
        },
        "id": "fjihMida15Kv",
        "outputId": "757ee2af-612d-4e5a-8157-c37dfc0ea114"
      },
      "execution_count": 5,
      "outputs": [
        {
          "output_type": "stream",
          "name": "stdout",
          "text": [
            "X_train shape: (1347, 64)\n",
            "y_train shape: (1347,)\n",
            "X_test shape: (450, 64)\n",
            "y_test shape: (450,)\n"
          ]
        }
      ]
    }
  ]
}