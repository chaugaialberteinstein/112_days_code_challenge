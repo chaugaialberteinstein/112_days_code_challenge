{
  "nbformat": 4,
  "nbformat_minor": 0,
  "metadata": {
    "colab": {
      "provenance": [],
      "authorship_tag": "ABX9TyMXIpFZ1u5Ls00HfbYzAdrS",
      "include_colab_link": true
    },
    "kernelspec": {
      "name": "python3",
      "display_name": "Python 3"
    },
    "language_info": {
      "name": "python"
    }
  },
  "cells": [
    {
      "cell_type": "markdown",
      "metadata": {
        "id": "view-in-github",
        "colab_type": "text"
      },
      "source": [
        "<a href=\"https://colab.research.google.com/github/chaugaialberteinstein/112_days_code_challenge/blob/main/Day23.ipynb\" target=\"_parent\"><img src=\"https://colab.research.google.com/assets/colab-badge.svg\" alt=\"Open In Colab\"/></a>"
      ]
    },
    {
      "cell_type": "markdown",
      "source": [
        "Exercise 23\n",
        "\n",
        "The IRIS dataset was loaded into data and target variables. These datasets was spitted into the training set (data_train, target_train) and the test set (data_test, target_test). The logistic regression model was built using the scikit-learn package.\n",
        "\n",
        "Predictions on the test set was assigned to the variable target_pred.\n",
        "\n",
        "\n",
        "Using scikit-learn package specify the confusion matrix and print it to the console as shown below.\n",
        "\n",
        "\n",
        "Tip: More about confusion_matrix(): https://scikit-learn.org/stable/modules/generated/sklearn.metrics.confusion_matrix.html\n",
        "\n",
        "\n",
        "Expected result:\n",
        "\n",
        "\n",
        "    [[13  0  0]\n",
        "     [ 0 18  0]\n",
        "     [ 0  3 11]]\n",
        "\n",
        "\n"
      ],
      "metadata": {
        "id": "o-mLHfImdmW3"
      }
    },
    {
      "cell_type": "code",
      "source": [
        "from sklearn.datasets import load_iris\n",
        "from sklearn.model_selection import train_test_split\n",
        "from sklearn.linear_model import LogisticRegression\n",
        "from sklearn.metrics import confusion_matrix  # metrics\n",
        " \n",
        " \n",
        "data_raw = load_iris()\n",
        "data = data_raw['data']\n",
        "target = data_raw['target']\n",
        "data_train, data_test, target_train, target_test = train_test_split(\n",
        "    data, \n",
        "    target, \n",
        "    test_size=0.3, \n",
        "    random_state=20\n",
        ")\n",
        " \n",
        "model = LogisticRegression(max_iter=1000)\n",
        "model.fit(data_train, target_train)"
      ],
      "metadata": {
        "colab": {
          "base_uri": "https://localhost:8080/"
        },
        "id": "j2d-lZzRdw4n",
        "outputId": "62cbdc02-514b-477a-9aa0-43f9f8b2ce20"
      },
      "execution_count": 2,
      "outputs": [
        {
          "output_type": "execute_result",
          "data": {
            "text/plain": [
              "LogisticRegression(max_iter=1000)"
            ]
          },
          "metadata": {},
          "execution_count": 2
        }
      ]
    },
    {
      "cell_type": "code",
      "source": [
        "target_pred = model.predict(data_test)\n",
        "cm = confusion_matrix(target_test, target_pred)\n",
        "print(cm)"
      ],
      "metadata": {
        "colab": {
          "base_uri": "https://localhost:8080/"
        },
        "id": "6qHxefhxdnL_",
        "outputId": "f8584302-0744-451d-d146-7fd3ab40d722"
      },
      "execution_count": 3,
      "outputs": [
        {
          "output_type": "stream",
          "name": "stdout",
          "text": [
            "[[13  0  0]\n",
            " [ 0 18  0]\n",
            " [ 0  3 11]]\n"
          ]
        }
      ]
    }
  ]
}