{
  "nbformat": 4,
  "nbformat_minor": 0,
  "metadata": {
    "colab": {
      "provenance": [],
      "authorship_tag": "ABX9TyOp9thFtmoLICnY7GEZ/9k9",
      "include_colab_link": true
    },
    "kernelspec": {
      "name": "python3",
      "display_name": "Python 3"
    },
    "language_info": {
      "name": "python"
    }
  },
  "cells": [
    {
      "cell_type": "markdown",
      "metadata": {
        "id": "view-in-github",
        "colab_type": "text"
      },
      "source": [
        "<a href=\"https://colab.research.google.com/github/chaugaialberteinstein/112_days_code_challenge/blob/main/Day78.ipynb\" target=\"_parent\"><img src=\"https://colab.research.google.com/assets/colab-badge.svg\" alt=\"Open In Colab\"/></a>"
      ]
    },
    {
      "cell_type": "code",
      "execution_count": 1,
      "metadata": {
        "id": "XoLzUufvWHgq"
      },
      "outputs": [],
      "source": [
        "import pandas as pd\n",
        "import numpy as np"
      ]
    },
    {
      "cell_type": "code",
      "source": [
        "data = {'products':[\n",
        "    'bread eggs',\n",
        "    'bread eggs milk',\n",
        "    'milk cheese',\n",
        "    \"bread butter cheese\",\n",
        "    \"eggs milk\",\n",
        "    \"bread milk butter cheese\",\n",
        "]}"
      ],
      "metadata": {
        "id": "M9aEmyiDWL4z"
      },
      "execution_count": 4,
      "outputs": []
    },
    {
      "cell_type": "code",
      "source": [
        "transactions = pd.DataFrame(data = data , index = range(1,7))\n",
        "expanded = transactions['products'].str.split(expand = True)"
      ],
      "metadata": {
        "id": "3-1fda-aWijZ"
      },
      "execution_count": 5,
      "outputs": []
    },
    {
      "cell_type": "code",
      "source": [
        "products = []\n",
        "for col in expanded.columns:\n",
        "  for product in expanded [col].unique():\n",
        "    if product is not None and product not in products:\n",
        "      products.append(product)\n",
        "products.sort()"
      ],
      "metadata": {
        "id": "vUU7XjsnWyhY"
      },
      "execution_count": 6,
      "outputs": []
    },
    {
      "cell_type": "code",
      "source": [
        "trans_encoded = np.zeros(\n",
        "    (len(transactions), len(products)),\n",
        "    dtype ='int8'\n",
        ")\n",
        "for row in zip(range(len(transactions)), trans_encoded , expanded.values):\n",
        "  for idx, product in enumerate(products):\n",
        "    if product in row[2]:\n",
        "      trans_encoded[row[0],idx] =1\n",
        "\n",
        "trans_encoded_df = pd.DataFrame(trans_encoded , columns = products)\n"
      ],
      "metadata": {
        "id": "w480EKomXJF7"
      },
      "execution_count": 7,
      "outputs": []
    },
    {
      "cell_type": "code",
      "source": [
        "sup_butter_bread = len(trans_encoded_df.query(\"butter == 1 and bread == 1\"))/len(trans_encoded_df)\n",
        "sup_butter_milk = len(trans_encoded_df.query(\"butter == 1 and milk == 1\"))/len(trans_encoded_df)\n",
        "print(f'support(butter,bread) = {sup_butter_bread:.4f}')\n",
        "print(f'support(butter,bread) = {sup_butter_milk:.4f}')\n",
        "\n",
        "\n"
      ],
      "metadata": {
        "colab": {
          "base_uri": "https://localhost:8080/"
        },
        "id": "0MIDIAYPXvZ8",
        "outputId": "00c38e70-5c62-4615-b90b-9e2f9dee8c59"
      },
      "execution_count": 8,
      "outputs": [
        {
          "output_type": "stream",
          "name": "stdout",
          "text": [
            "support(butter,bread) = 0.3333\n",
            "support(butter,bread) = 0.1667\n"
          ]
        }
      ]
    }
  ]
}