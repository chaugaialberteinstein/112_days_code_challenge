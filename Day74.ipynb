{
  "nbformat": 4,
  "nbformat_minor": 0,
  "metadata": {
    "colab": {
      "provenance": [],
      "authorship_tag": "ABX9TyOU0nXCDllvjMCJDsWTNddL",
      "include_colab_link": true
    },
    "kernelspec": {
      "name": "python3",
      "display_name": "Python 3"
    },
    "language_info": {
      "name": "python"
    }
  },
  "cells": [
    {
      "cell_type": "markdown",
      "metadata": {
        "id": "view-in-github",
        "colab_type": "text"
      },
      "source": [
        "<a href=\"https://colab.research.google.com/github/chaugaialberteinstein/112_days_code_challenge/blob/main/Day74.ipynb\" target=\"_parent\"><img src=\"https://colab.research.google.com/assets/colab-badge.svg\" alt=\"Open In Colab\"/></a>"
      ]
    },
    {
      "cell_type": "markdown",
      "source": [
        "Exercise 73\n",
        "\n",
        "A transactions DataFrame (transaction database) containing data in a certain grocery store is given:\n",
        "\n",
        "\n",
        "                       products\n",
        "    1                bread eggs\n",
        "    2           bread eggs milk\n",
        "    3               milk cheese\n",
        "    4       bread butter cheese\n",
        "    5                 eggs milk\n",
        "    6  bread milk butter cheese\n",
        "\n",
        "\n",
        "Each row contains products purchased by one customer. Split each row of the products column by a space character and extend to the DataFrame object. The object should have four columns (maximum number of products in one transaction). In the missing places put None as shown below and assign to expanded variable.\n",
        "\n",
        "In response, print the expanded variable to the console.\n",
        "\n",
        "\n",
        "Expected result:\n",
        "\n",
        "\n",
        "           0       1       2       3\n",
        "    1  bread    eggs    None    None\n",
        "    2  bread    eggs    milk    None\n",
        "    3   milk  cheese    None    None\n",
        "    4  bread  butter  cheese    None\n",
        "    5   eggs    milk    None    None\n",
        "    6  bread    milk  butter  cheese"
      ],
      "metadata": {
        "id": "3MhMGMHEX-ii"
      }
    },
    {
      "cell_type": "code",
      "source": [
        "import numpy as np\n",
        "import pandas as pd"
      ],
      "metadata": {
        "id": "fmsEJf9tpK-2"
      },
      "execution_count": null,
      "outputs": []
    },
    {
      "cell_type": "code",
      "source": [
        "data = {\n",
        "    \"products\": [\n",
        "        \"bread eggs\",\n",
        "        \"bread eggs milk\",\n",
        "        \"milk cheese\",\n",
        "        \"bread butter cheese\",\n",
        "        \"eggs milk\",\n",
        "        \"bread milk butter cheese\",\n",
        "    ]\n",
        "}"
      ],
      "metadata": {
        "id": "bVa8oXfSq3df"
      },
      "execution_count": null,
      "outputs": []
    },
    {
      "cell_type": "code",
      "source": [
        "transactions = pd.DataFrame(data=data, index=range(1, 7))\n",
        "expanded = transactions['products'].str.split(expand=True)"
      ],
      "metadata": {
        "id": "O3pC1gOmq5P_"
      },
      "execution_count": null,
      "outputs": []
    },
    {
      "cell_type": "code",
      "source": [
        "products = []\n",
        "for col in expanded.columns:\n",
        "    for product in expanded[col].unique():\n",
        "        if product is not None and product not in products:\n",
        "            products.append(product)\n",
        "products.sort()"
      ],
      "metadata": {
        "id": "Er9suIDMq7jG"
      },
      "execution_count": null,
      "outputs": []
    },
    {
      "cell_type": "code",
      "source": [
        "print(products)"
      ],
      "metadata": {
        "colab": {
          "base_uri": "https://localhost:8080/"
        },
        "id": "1NOmUUjlq9OU",
        "outputId": "857f8dd5-db6c-48d6-d86d-e5e82bb29dcf"
      },
      "execution_count": null,
      "outputs": [
        {
          "output_type": "stream",
          "name": "stdout",
          "text": [
            "['bread', 'butter', 'cheese', 'eggs', 'milk']\n"
          ]
        }
      ]
    }
  ]
}