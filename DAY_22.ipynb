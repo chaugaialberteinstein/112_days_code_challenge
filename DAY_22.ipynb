{
  "nbformat": 4,
  "nbformat_minor": 0,
  "metadata": {
    "colab": {
      "provenance": [],
      "authorship_tag": "ABX9TyOUF5V+ygolT+bi2aU1kOAQ",
      "include_colab_link": true
    },
    "kernelspec": {
      "name": "python3",
      "display_name": "Python 3"
    },
    "language_info": {
      "name": "python"
    }
  },
  "cells": [
    {
      "cell_type": "markdown",
      "metadata": {
        "id": "view-in-github",
        "colab_type": "text"
      },
      "source": [
        "<a href=\"https://colab.research.google.com/github/chaugaialberteinstein/112_days_code_challenge/blob/main/DAY_22.ipynb\" target=\"_parent\"><img src=\"https://colab.research.google.com/assets/colab-badge.svg\" alt=\"Open In Colab\"/></a>"
      ]
    },
    {
      "cell_type": "markdown",
      "source": [
        "Exercise 22\n",
        "The IRIS dataset was loaded into data and target variables. These datasets was spitted into the training set (data_train, target_train) and the test set (data_test, target_test).\n",
        "\n",
        "\n",
        "Create a logistic regression model (set max_iter=1000) using the scikit-learn package. Fit the model on the train set and then evaluate the model on the test set.\n",
        "\n",
        "In response, print the accuracy of the model on the test set as shown below.\n",
        "\n",
        "\n",
        "Tip: More about LogisticRegression class: https://scikit-learn.org/stable/modules/generated/sklearn.linear_model.LogisticRegression.html\n",
        "\n",
        "\n",
        "Expected result:\n",
        "\n",
        "\n",
        "    Accuracy: 0.9333\n",
        "\n",
        "\n"
      ],
      "metadata": {
        "id": "AD3GoN6diWWp"
      }
    },
    {
      "cell_type": "code",
      "source": [
        "from sklearn.datasets import load_iris\n",
        "data_raw = load_iris()\n",
        "data = data_raw['data']\n",
        "target = data_raw['target']"
      ],
      "metadata": {
        "id": "-Rr-qMMO44ek"
      },
      "execution_count": 1,
      "outputs": []
    },
    {
      "cell_type": "code",
      "source": [
        "# These datasets was spitted into the training set (data_train, target_train) and the test set (data_test, target_test).\n",
        "from sklearn.model_selection import train_test_split\n",
        "data_train, data_test, target_train, target_test = train_test_split(data, target, test_size =0.3 , random_state = 20)\n"
      ],
      "metadata": {
        "id": "-POGnxLu46MV"
      },
      "execution_count": 2,
      "outputs": []
    },
    {
      "cell_type": "code",
      "source": [
        "#Create a logistic regression model (set max_iter=1000) using the scikit-learn package. Fit the model on the train set and then evaluate the model on the test set.\n",
        "from sklearn.linear_model import LogisticRegression\n",
        "model = LogisticRegression(max_iter=1000)\n",
        "model.fit(data_train, target_train)"
      ],
      "metadata": {
        "colab": {
          "base_uri": "https://localhost:8080/"
        },
        "id": "bFT-C4B84-ma",
        "outputId": "662dcb01-c735-45d4-a64f-55c9992e3c7c"
      },
      "execution_count": 3,
      "outputs": [
        {
          "output_type": "execute_result",
          "data": {
            "text/plain": [
              "LogisticRegression(max_iter=1000)"
            ]
          },
          "metadata": {},
          "execution_count": 3
        }
      ]
    },
    {
      "cell_type": "code",
      "source": [
        "\n",
        "# In response, print the accuracy of the model on the test set as shown below. \n",
        "accuracy = model.score(data_test, target_test)\n",
        "print('Accuracy:', accuracy)"
      ],
      "metadata": {
        "colab": {
          "base_uri": "https://localhost:8080/"
        },
        "id": "FmKAiLZx5Aqr",
        "outputId": "4f6e3e0b-6af6-4a8a-e581-297721d61b4f"
      },
      "execution_count": 4,
      "outputs": [
        {
          "output_type": "stream",
          "name": "stdout",
          "text": [
            "Accuracy: 0.9333333333333333\n"
          ]
        }
      ]
    },
    {
      "cell_type": "code",
      "source": [
        "\n",
        "# In response, print the accuracy of the model on the test set as shown below. \n",
        "accuracy = model.score(data_test, target_test)\n",
        "print(f'Accuracy: {accuracy:.4f}') # key checked"
      ],
      "metadata": {
        "colab": {
          "base_uri": "https://localhost:8080/"
        },
        "id": "eGtg1DnZ5Cn3",
        "outputId": "5f8e1cb9-2f3c-463e-9349-2e4bd6b1899f"
      },
      "execution_count": 6,
      "outputs": [
        {
          "output_type": "stream",
          "name": "stdout",
          "text": [
            "Accuracy: 0.9333\n"
          ]
        }
      ]
    }
  ]
}