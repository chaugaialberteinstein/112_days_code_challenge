{
  "nbformat": 4,
  "nbformat_minor": 0,
  "metadata": {
    "colab": {
      "provenance": [],
      "authorship_tag": "ABX9TyNL80MQ8bDS+IJ3tLYRRjOw",
      "include_colab_link": true
    },
    "kernelspec": {
      "name": "python3",
      "display_name": "Python 3"
    },
    "language_info": {
      "name": "python"
    }
  },
  "cells": [
    {
      "cell_type": "markdown",
      "metadata": {
        "id": "view-in-github",
        "colab_type": "text"
      },
      "source": [
        "<a href=\"https://colab.research.google.com/github/chaugaialberteinstein/112_days_code_challenge/blob/main/Day20.ipynb\" target=\"_parent\"><img src=\"https://colab.research.google.com/assets/colab-badge.svg\" alt=\"Open In Colab\"/></a>"
      ]
    },
    {
      "cell_type": "markdown",
      "source": [
        "Exercise 20\n",
        "\n",
        "The IRIS dataset was loaded into data and target variables.\n",
        "\n",
        "Using the scikit-learn package and the train_test_split() function, split the data into the training set (data_train, target_train) and the test set (data_test, target_test). Set the test size to 30% of the samples.\n",
        "\n",
        "As an answer, print the shapes of the following arrays:\n",
        "\n",
        "    data_train\n",
        "\n",
        "    target_train\n",
        "\n",
        "    data_test\n",
        "\n",
        "    target_test\n",
        "\n",
        "\n",
        "Tip: More about train_test_split() function: https://scikit-learn.org/stable/modules/generated/sklearn.model_selection.train_test_split.html\n",
        "\n",
        "\n",
        "Expected result:\n",
        "\n",
        "\n",
        "    data_train shape: (105, 4)\n",
        "    target_train shape: (105,)\n",
        "    data_test shape: (45, 4)\n",
        "    target_test shape: (45,)\n",
        "\n",
        "\n"
      ],
      "metadata": {
        "id": "ujqkoU0djbQi"
      }
    },
    {
      "cell_type": "code",
      "source": [
        "# The IRIS dataset was loaded into data and target variables.\n",
        "from sklearn.datasets import load_iris\n",
        "from sklearn.model_selection import train_test_split\n",
        "\n",
        "data_raw = load_iris()\n",
        "\n",
        "data = data_raw['data']\n",
        "target = data_raw['target']\n",
        "\n",
        "\n",
        "# Using the scikit-learn package and the train_test_split() function, split the data into the training set (data_train, target_train) and the test set (data_test, target_test). Set the test size to 30% of the samples.\n",
        "data_train , data_test , target_train , target_test = train_test_split(data,target,test_size=0.3)\n",
        "\n",
        "\n"
      ],
      "metadata": {
        "id": "2kmrJa93mcyP"
      },
      "execution_count": 11,
      "outputs": []
    },
    {
      "cell_type": "code",
      "source": [
        "print('data_train shape: ',data_train.shape )\n",
        "print('target_train shape: ', target_train.shape)\n",
        "print(f'data_test shape: {data_test.shape}')\n",
        "print(f'target_test shape:  {target_test.shape}')"
      ],
      "metadata": {
        "colab": {
          "base_uri": "https://localhost:8080/"
        },
        "id": "OotX1kVOjb0b",
        "outputId": "6e1090f5-06cb-4e1a-f1de-129997283d41"
      },
      "execution_count": 12,
      "outputs": [
        {
          "output_type": "stream",
          "name": "stdout",
          "text": [
            "data_train shape:  (105, 4)\n",
            "target_train shape:  (105,)\n",
            "data_test shape: (45, 4)\n",
            "target_test shape:  (45,)\n"
          ]
        }
      ]
    }
  ]
}