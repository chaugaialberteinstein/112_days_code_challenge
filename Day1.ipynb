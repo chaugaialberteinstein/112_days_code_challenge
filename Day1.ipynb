{
  "nbformat": 4,
  "nbformat_minor": 0,
  "metadata": {
    "colab": {
      "provenance": [],
      "authorship_tag": "ABX9TyN1lHoG4qyKp22eCcFLkHGY",
      "include_colab_link": true
    },
    "kernelspec": {
      "name": "python3",
      "display_name": "Python 3"
    },
    "language_info": {
      "name": "python"
    }
  },
  "cells": [
    {
      "cell_type": "markdown",
      "metadata": {
        "id": "view-in-github",
        "colab_type": "text"
      },
      "source": [
        "<a href=\"https://colab.research.google.com/github/chaugaialberteinstein/112_days_code_challenge/blob/main/Day1.ipynb\" target=\"_parent\"><img src=\"https://colab.research.google.com/assets/colab-badge.svg\" alt=\"Open In Colab\"/></a>"
      ]
    },
    {
      "cell_type": "markdown",
      "source": [
        "Exercise 1\n",
        "\n",
        "The following dictionary is given:\n",
        "\n",
        "\n",
        "    data = {\n",
        "        'size': ['XL', 'L', 'M', np.nan, 'M', 'M'],\n",
        "        'color': ['red', 'green', 'blue', 'green', 'red', 'green'],\n",
        "        'gender': ['female', 'male', np.nan, 'female', 'female', 'male'],\n",
        "        'price': [199.0, 89.0, np.nan, 129.0, 79.0, 89.0],\n",
        "        'weight': [500, 450, 300, np.nan, 410, np.nan],\n",
        "        'bought': ['yes', 'no', 'yes', 'no', 'yes', 'no']\n",
        "    }\n",
        "\n",
        "\n",
        "From this dictionary create a DataFrame object and assign to the df variable.\n",
        "\n",
        "Then check for the missing values for each column (in percent) and print it to console as shown below. Round the result to two decimal places"
      ],
      "metadata": {
        "id": "8QtTnc1kegua"
      }
    },
    {
      "cell_type": "code",
      "source": [
        "import numpy as np\n",
        "import pandas as pd\n",
        "\n",
        "\n",
        "data = {\n",
        "    'size': ['XL', 'L', 'M', np.nan, 'M', 'M'],\n",
        "    'color': ['red', 'green', 'blue', 'green', 'red', 'green'],\n",
        "    'gender': ['female', 'male', np.nan, 'female', 'female', 'male'],\n",
        "    'price': [199.0, 89.0, np.nan, 129.0, 79.0, 89.0],\n",
        "    'weight': [500, 450, 300, np.nan, 410, np.nan],\n",
        "    'bought': ['yes', 'no', 'yes', 'no', 'yes', 'no']\n",
        "}\n",
        "\n",
        "df = pd.DataFrame(data)\n",
        "\n",
        "\n",
        "\n",
        "print(np.round(df.isnull().sum()/len(df),2))\n",
        "# for i in data:\n",
        "    a = i.isnull().sum()\n",
        "    c = i.len(a)\n",
        "    b = (a/c)*100\n",
        "    answer = str(round(b, 2))\n",
        "    print(answer)"
      ],
      "metadata": {
        "id": "CaA2S0fyejyU"
      },
      "execution_count": null,
      "outputs": []
    }
  ]
}