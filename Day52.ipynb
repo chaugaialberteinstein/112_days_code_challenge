{
  "nbformat": 4,
  "nbformat_minor": 0,
  "metadata": {
    "colab": {
      "provenance": [],
      "authorship_tag": "ABX9TyN5qSQhWcY9J30MNJQQqUnI",
      "include_colab_link": true
    },
    "kernelspec": {
      "name": "python3",
      "display_name": "Python 3"
    },
    "language_info": {
      "name": "python"
    }
  },
  "cells": [
    {
      "cell_type": "markdown",
      "metadata": {
        "id": "view-in-github",
        "colab_type": "text"
      },
      "source": [
        "<a href=\"https://colab.research.google.com/github/chaugaialberteinstein/112_days_code_challenge/blob/main/Day52.ipynb\" target=\"_parent\"><img src=\"https://colab.research.google.com/assets/colab-badge.svg\" alt=\"Open In Colab\"/></a>"
      ]
    },
    {
      "cell_type": "markdown",
      "source": [
        "Exercise 52\n",
        "\n",
        "The following arrays are given:\n",
        "\n",
        "    X_train, y_train\n",
        "\n",
        "    X_test, y_test\n",
        "\n",
        "\n",
        "Using the RandomForestClassifier class and grid search method (GridSearchCV class - set scoring='accuracy', cv=2) find the optimal values of criterion, max_depth and min_samples_leaf parameters. Search for parameter values from the following:\n",
        "\n",
        "    for criterion -> ['gini', 'entropy']\n",
        "\n",
        "    for max_depth -> [6, 7, 8]\n",
        "\n",
        "    for min_samples_leaf -> [4, 5]\n",
        "\n",
        "\n",
        "Train the model on the train set and evaluate on the test set.\n",
        "\n",
        "In response, print the optimal values of criterion, max_depth and min_samples_leaf parameters to the console.\n",
        "\n",
        "\n",
        "Tips:\n",
        "\n",
        "    More about DecisionTreeClassifier class: https://scikit-learn.org/stable/modules/generated/sklearn.tree.DecisionTreeClassifier.html\n",
        "\n",
        "    More about GridSearchCV class: https://scikit-learn.org/stable/modules/generated/sklearn.model_selection.GridSearchCV.html\n",
        "\n",
        "\n",
        "Expected result:\n",
        "\n",
        "\n",
        "    {'criterion': 'gini', 'max_depth': 8, 'min_samples_leaf': 4}\n",
        "\n",
        "\n"
      ],
      "metadata": {
        "id": "Fy3PNW7Qis1a"
      }
    },
    {
      "cell_type": "code",
      "source": [
        "import numpy as np\n",
        "import pandas as pd\n",
        " \n",
        "from sklearn.datasets import make_moons\n",
        "from sklearn.model_selection import train_test_split\n",
        "from sklearn.ensemble import RandomForestClassifier\n",
        "from sklearn.model_selection import GridSearchCV"
      ],
      "metadata": {
        "id": "IKLsa-S4EblB"
      },
      "execution_count": 1,
      "outputs": []
    },
    {
      "cell_type": "code",
      "source": [
        "np.random.seed(42)\n",
        "raw_data = make_moons(n_samples=2000, noise=0.25, random_state=42)\n",
        "data = raw_data[0]\n",
        "target = raw_data[1]\n",
        " "
      ],
      "metadata": {
        "id": "AXktXRi3EjYH"
      },
      "execution_count": 2,
      "outputs": []
    },
    {
      "cell_type": "code",
      "source": [
        "X_train, X_test, y_train, y_test = train_test_split(data, target)\n",
        " \n",
        "classifier = RandomForestClassifier(random_state=42)\n",
        " \n",
        "param_grid = {\n",
        "    'criterion': ['gini', 'entropy'],\n",
        "    'max_depth': [6, 7, 8],\n",
        "    'min_samples_leaf': [4, 5]\n",
        "}"
      ],
      "metadata": {
        "id": "BXDCgy30EmFH"
      },
      "execution_count": 3,
      "outputs": []
    },
    {
      "cell_type": "code",
      "source": [
        "grid_search = GridSearchCV(\n",
        "    classifier, \n",
        "    param_grid=param_grid, \n",
        "    n_jobs=-1, \n",
        "    scoring='accuracy', \n",
        "    cv=2\n",
        ")"
      ],
      "metadata": {
        "id": "JZEzFowlEp2-"
      },
      "execution_count": 4,
      "outputs": []
    },
    {
      "cell_type": "code",
      "source": [
        "grid_search.fit(X_train, y_train)\n",
        "grid_search.score(X_test, y_test)\n",
        "print(grid_search.best_params_)"
      ],
      "metadata": {
        "colab": {
          "base_uri": "https://localhost:8080/"
        },
        "id": "D23XCpW6EuvU",
        "outputId": "4a867353-5b1c-42dc-a093-c501e603a651"
      },
      "execution_count": 5,
      "outputs": [
        {
          "output_type": "stream",
          "name": "stdout",
          "text": [
            "{'criterion': 'gini', 'max_depth': 8, 'min_samples_leaf': 4}\n"
          ]
        }
      ]
    }
  ]
}