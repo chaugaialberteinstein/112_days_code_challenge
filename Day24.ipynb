{
  "nbformat": 4,
  "nbformat_minor": 0,
  "metadata": {
    "colab": {
      "provenance": [],
      "authorship_tag": "ABX9TyNb5lQFuLA6esJ5ITfWDgd1",
      "include_colab_link": true
    },
    "kernelspec": {
      "name": "python3",
      "display_name": "Python 3"
    },
    "language_info": {
      "name": "python"
    }
  },
  "cells": [
    {
      "cell_type": "markdown",
      "metadata": {
        "id": "view-in-github",
        "colab_type": "text"
      },
      "source": [
        "<a href=\"https://colab.research.google.com/github/chaugaialberteinstein/112_days_code_challenge/blob/main/Day24.ipynb\" target=\"_parent\"><img src=\"https://colab.research.google.com/assets/colab-badge.svg\" alt=\"Open In Colab\"/></a>"
      ]
    },
    {
      "cell_type": "markdown",
      "source": [
        "Exercise 24\n",
        "\n",
        "The IRIS dataset was loaded into data and target variables. These datasets was spitted into the training set (data_train, target_train) and the test set (data_test, target_test). The logistic regression model was built using the scikit-learn package.\n",
        "\n",
        "Predictions on the test set was assigned to the variable target_pred.\n",
        "\n",
        "\n",
        "Print the classification report using the classification_report() function from the scikit-learn package to the console.\n",
        "\n",
        "\n",
        "Tip: More about classification_report() function: https://scikit-learn.org/stable/modules/generated/sklearn.metrics.classification_report.html\n",
        "\n",
        "\n",
        "Expected result:\n",
        "\n",
        "\n",
        "                  precision    recall  f1-score   support\n",
        "     \n",
        "               0       1.00      1.00      1.00        13\n",
        "               1       0.86      1.00      0.92        18\n",
        "               2       1.00      0.79      0.88        14\n",
        "     \n",
        "        accuracy                           0.93        45\n",
        "       macro avg       0.95      0.93      0.93        45\n",
        "    weighted avg       0.94      0.93      0.93        45\n",
        "     \n",
        "\n",
        "\n"
      ],
      "metadata": {
        "id": "HjRLqnCu264p"
      }
    },
    {
      "cell_type": "code",
      "source": [
        "from sklearn.datasets import load_iris\n",
        "from sklearn.model_selection import train_test_split\n",
        "from sklearn.linear_model import LogisticRegression\n",
        "from sklearn.metrics import classification_report\n",
        "\n",
        "data_raw = load_iris()\n",
        "data = data_raw['data']\n",
        "target = data_raw['target']"
      ],
      "metadata": {
        "id": "VfbaTqfd29bm"
      },
      "execution_count": 13,
      "outputs": []
    },
    {
      "cell_type": "code",
      "source": [
        "data_train, data_test,target_train,target_test = train_test_split(data,\n",
        "                                                                  target,\n",
        "                                                                  test_size =0.3,\n",
        "                                                                  random_state = 20)\n",
        "\n",
        "\n",
        "\n"
      ],
      "metadata": {
        "id": "yQE2uNq46yhA"
      },
      "execution_count": 19,
      "outputs": []
    },
    {
      "cell_type": "code",
      "source": [
        "lg = LogisticRegression(max_iter=1000)\n",
        "lg.fit(data_train,target_train)"
      ],
      "metadata": {
        "colab": {
          "base_uri": "https://localhost:8080/"
        },
        "id": "q3CGwGbY-tHB",
        "outputId": "8c76b3f8-70da-4110-f843-9cd9636c92b5"
      },
      "execution_count": 21,
      "outputs": [
        {
          "output_type": "execute_result",
          "data": {
            "text/plain": [
              "LogisticRegression(max_iter=1000)"
            ]
          },
          "metadata": {},
          "execution_count": 21
        }
      ]
    },
    {
      "cell_type": "code",
      "source": [
        "\n",
        "target_pred = lg.predict(data_test)\n",
        "print(classification_report(target_test,target_pred))"
      ],
      "metadata": {
        "colab": {
          "base_uri": "https://localhost:8080/"
        },
        "id": "y-utL34J-0w9",
        "outputId": "d78a1051-9111-4841-c676-f81c945e1a8c"
      },
      "execution_count": 22,
      "outputs": [
        {
          "output_type": "stream",
          "name": "stdout",
          "text": [
            "              precision    recall  f1-score   support\n",
            "\n",
            "           0       1.00      1.00      1.00        13\n",
            "           1       0.86      1.00      0.92        18\n",
            "           2       1.00      0.79      0.88        14\n",
            "\n",
            "    accuracy                           0.93        45\n",
            "   macro avg       0.95      0.93      0.93        45\n",
            "weighted avg       0.94      0.93      0.93        45\n",
            "\n"
          ]
        }
      ]
    }
  ]
}