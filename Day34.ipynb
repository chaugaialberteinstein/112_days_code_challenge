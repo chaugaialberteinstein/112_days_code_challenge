{
  "nbformat": 4,
  "nbformat_minor": 0,
  "metadata": {
    "colab": {
      "provenance": [],
      "authorship_tag": "ABX9TyPEfAY4mkpNy6CFTLymfh2j",
      "include_colab_link": true
    },
    "kernelspec": {
      "name": "python3",
      "display_name": "Python 3"
    },
    "language_info": {
      "name": "python"
    }
  },
  "cells": [
    {
      "cell_type": "markdown",
      "metadata": {
        "id": "view-in-github",
        "colab_type": "text"
      },
      "source": [
        "<a href=\"https://colab.research.google.com/github/chaugaialberteinstein/112_days_code_challenge/blob/main/Day34.ipynb\" target=\"_parent\"><img src=\"https://colab.research.google.com/assets/colab-badge.svg\" alt=\"Open In Colab\"/></a>"
      ]
    },
    {
      "cell_type": "markdown",
      "source": [
        "Exercise 34\n",
        "\n",
        "The following df DataFrame is given:\n",
        "\n",
        "\n",
        "       years  salary\n",
        "    0      1    4000\n",
        "    1      2    4250\n",
        "    2      3    4500\n",
        "    3      4    4750\n",
        "    4      5    5000\n",
        "    5      6    5250\n",
        "\n",
        "\n",
        "The first column describes the years of experience (feature variable), the second column describes the salary (target variable).\n",
        "\n",
        "\n",
        "Using the normal equation and the numpy package, find the linear regression equation.\n",
        "\n",
        "In response, print the result to the console as shown below.\n",
        "\n",
        "\n",
        "Expected result:\n",
        "\n",
        "\n",
        "    Linear regression: 3750.00 + 250.00x\n",
        "\n",
        "\n"
      ],
      "metadata": {
        "id": "l1MV9ykfbyzP"
      }
    },
    {
      "cell_type": "code",
      "source": [
        "import numpy as np\n",
        "import pandas as pd\n",
        "     \n",
        "     "
      ],
      "metadata": {
        "id": "c4hjWoWNbzL-"
      },
      "execution_count": 1,
      "outputs": []
    },
    {
      "cell_type": "code",
      "source": [
        "df = pd.DataFrame({'years': [1, 2, 3, 4, 5, 6],\n",
        "                       'salary': [4000, 4250, 4500, 4750, 5000, 5250]})"
      ],
      "metadata": {
        "id": "251RJY-nb-FH"
      },
      "execution_count": 2,
      "outputs": []
    },
    {
      "cell_type": "code",
      "source": [
        "m = len(df)\n",
        "     \n",
        "X1 = df['years'].values\n",
        "Y = df['salary'].values"
      ],
      "metadata": {
        "id": "ruuWNRaGb-sr"
      },
      "execution_count": 4,
      "outputs": []
    },
    {
      "cell_type": "code",
      "source": [
        "X1 = X1.reshape(m, 1)\n",
        "bias = np.ones((m, 1))\n",
        "X = np.append(bias, X1, axis=1)"
      ],
      "metadata": {
        "id": "PNniv6ZYcAt3"
      },
      "execution_count": 5,
      "outputs": []
    },
    {
      "cell_type": "code",
      "source": [
        "coefs = np.dot(np.linalg.inv(np.dot(X.T, X)), np.dot(X.T, Y))\n",
        "print(f'Linear regression: {coefs[0]:.2f} + {coefs[1]:.2f}x')"
      ],
      "metadata": {
        "colab": {
          "base_uri": "https://localhost:8080/"
        },
        "id": "ipQ25_n6cCbD",
        "outputId": "dcf4163a-3193-462f-d215-6e2a1c2d26e8"
      },
      "execution_count": 6,
      "outputs": [
        {
          "output_type": "stream",
          "name": "stdout",
          "text": [
            "Linear regression: 3750.00 + 250.00x\n"
          ]
        }
      ]
    },
    {
      "cell_type": "code",
      "source": [
        "# because today is 20/10 so key was checked. Let's learn tomorrow ^^, my bf is coming."
      ],
      "metadata": {
        "id": "SHh7c36xcJEQ"
      },
      "execution_count": 10,
      "outputs": []
    }
  ]
}