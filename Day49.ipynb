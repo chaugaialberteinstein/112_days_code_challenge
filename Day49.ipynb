{
  "nbformat": 4,
  "nbformat_minor": 0,
  "metadata": {
    "colab": {
      "provenance": [],
      "authorship_tag": "ABX9TyPXZg7U+9zlwM9QPmKG60xG",
      "include_colab_link": true
    },
    "kernelspec": {
      "name": "python3",
      "display_name": "Python 3"
    },
    "language_info": {
      "name": "python"
    }
  },
  "cells": [
    {
      "cell_type": "markdown",
      "metadata": {
        "id": "view-in-github",
        "colab_type": "text"
      },
      "source": [
        "<a href=\"https://colab.research.google.com/github/chaugaialberteinstein/112_days_code_challenge/blob/main/Day49.ipynb\" target=\"_parent\"><img src=\"https://colab.research.google.com/assets/colab-badge.svg\" alt=\"Open In Colab\"/></a>"
      ]
    },
    {
      "cell_type": "markdown",
      "source": [
        "Exercise 49\n",
        "\n",
        "The following arrays are given:\n",
        "\n",
        "    X_train, y_train\n",
        "\n",
        "    X_test, y_test\n",
        "\n",
        "\n",
        "Using the DecisionTreeClassifier class from the scikit-learn package, create a classification model (set max_depth=6 and min_samples_leaf=6). Train the model on the train set and evaluate on the test set.\n",
        "\n",
        "In response, print the model accuracy (up to four decimal places) to the console as shown below.\n",
        "\n",
        "\n",
        "Tip: More about DecisionTreeClassifier class: https://scikit-learn.org/stable/modules/generated/sklearn.tree.DecisionTreeClassifier.html\n",
        "\n",
        "\n",
        "Expected result:\n",
        "\n",
        "\n",
        "    Accuracy: 0.9300"
      ],
      "metadata": {
        "id": "rKwe4MweBcQ0"
      }
    },
    {
      "cell_type": "code",
      "source": [
        "import numpy as np\n",
        "import pandas as pd\n",
        " \n",
        "from sklearn.datasets import make_moons\n",
        "from sklearn.model_selection import train_test_split\n",
        "from sklearn.tree import DecisionTreeClassifier"
      ],
      "metadata": {
        "id": "3l1iyEYgFOIl"
      },
      "execution_count": 1,
      "outputs": []
    },
    {
      "cell_type": "code",
      "source": [
        "np.random.seed(42)\n",
        "raw_data = make_moons(n_samples=2000, noise=0.25, random_state=42)\n",
        "data = raw_data[0]\n",
        "target = raw_data[1]"
      ],
      "metadata": {
        "id": "pzD1mD27GEBj"
      },
      "execution_count": 2,
      "outputs": []
    },
    {
      "cell_type": "code",
      "source": [
        "X_train, X_test, y_train, y_test = train_test_split(data, target)\n",
        " \n",
        "classifier = DecisionTreeClassifier(max_depth=6, min_samples_leaf=6)\n",
        "classifier.fit(X_train, y_train)\n",
        "acc = classifier.score(X_test, y_test)\n",
        "print(f'Accuracy: {acc:.4f}')"
      ],
      "metadata": {
        "colab": {
          "base_uri": "https://localhost:8080/"
        },
        "id": "Ks1WosU8GPpT",
        "outputId": "de7c697e-c139-4136-fd76-c42d5889664a"
      },
      "execution_count": 3,
      "outputs": [
        {
          "output_type": "stream",
          "name": "stdout",
          "text": [
            "Accuracy: 0.9300\n"
          ]
        }
      ]
    }
  ]
}