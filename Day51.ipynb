{
  "nbformat": 4,
  "nbformat_minor": 0,
  "metadata": {
    "colab": {
      "provenance": [],
      "authorship_tag": "ABX9TyMHWeAWKw3wK/lQ3mwHrik8",
      "include_colab_link": true
    },
    "kernelspec": {
      "name": "python3",
      "display_name": "Python 3"
    },
    "language_info": {
      "name": "python"
    }
  },
  "cells": [
    {
      "cell_type": "markdown",
      "metadata": {
        "id": "view-in-github",
        "colab_type": "text"
      },
      "source": [
        "<a href=\"https://colab.research.google.com/github/chaugaialberteinstein/112_days_code_challenge/blob/main/Day51.ipynb\" target=\"_parent\"><img src=\"https://colab.research.google.com/assets/colab-badge.svg\" alt=\"Open In Colab\"/></a>"
      ]
    },
    {
      "cell_type": "markdown",
      "source": [
        "Exercise 51\n",
        "\n",
        "The following arrays are given:\n",
        "\n",
        "    X_train, y_train\n",
        "\n",
        "    X_test, y_test\n",
        "\n",
        "\n",
        "Using the RandomForestClassifier class from the scikit-learn package, create a classification model (set  random_state=42). Train the model on the train set and evaluate on the test set.\n",
        "\n",
        "In response, print the model accuracy (up to four decimal places) to the console as shown below.\n",
        "\n",
        "\n",
        "Tip: More about RandomForestClassifier class: https://scikit-learn.org/stable/modules/generated/sklearn.ensemble.RandomForestClassifier.html\n",
        "\n",
        "\n",
        "Expected result:\n",
        "\n",
        "\n",
        "    Accuracy: 0.9300\n",
        "\n",
        "\n"
      ],
      "metadata": {
        "id": "aONZt6k1igxi"
      }
    },
    {
      "cell_type": "code",
      "source": [
        "import numpy as np\n",
        "import pandas as pd\n",
        " \n",
        "from sklearn.datasets import make_moons\n",
        "from sklearn.model_selection import train_test_split\n",
        "from sklearn.ensemble import RandomForestClassifier"
      ],
      "metadata": {
        "id": "CdIU8327ihMu"
      },
      "execution_count": 1,
      "outputs": []
    },
    {
      "cell_type": "code",
      "source": [
        "np.random.seed(42)\n",
        "raw_data = make_moons(n_samples=2000, noise=0.25, random_state=42)\n",
        "data = raw_data[0]\n",
        "target = raw_data[1]"
      ],
      "metadata": {
        "id": "jnG6wHFKeo-r"
      },
      "execution_count": 2,
      "outputs": []
    },
    {
      "cell_type": "code",
      "source": [
        "X_train, X_test, y_train, y_test = train_test_split(data, target)\n",
        " \n",
        "classifier = RandomForestClassifier(random_state=42)\n",
        "classifier.fit(X_train, y_train)\n",
        "acc = classifier.score(X_test, y_test)\n",
        "print(f'Accuracy: {acc:.4f}')"
      ],
      "metadata": {
        "id": "MOdG0_m5jAuN",
        "colab": {
          "base_uri": "https://localhost:8080/"
        },
        "outputId": "610a26f5-1ab7-4e21-8001-eec2acd6127c"
      },
      "execution_count": 3,
      "outputs": [
        {
          "output_type": "stream",
          "name": "stdout",
          "text": [
            "Accuracy: 0.9300\n"
          ]
        }
      ]
    }
  ]
}