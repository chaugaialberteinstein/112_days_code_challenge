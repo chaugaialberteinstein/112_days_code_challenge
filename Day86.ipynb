{
  "nbformat": 4,
  "nbformat_minor": 0,
  "metadata": {
    "colab": {
      "provenance": [],
      "authorship_tag": "ABX9TyMeijld34Feuspy6eTvFtvs",
      "include_colab_link": true
    },
    "kernelspec": {
      "name": "python3",
      "display_name": "Python 3"
    },
    "language_info": {
      "name": "python"
    }
  },
  "cells": [
    {
      "cell_type": "markdown",
      "metadata": {
        "id": "view-in-github",
        "colab_type": "text"
      },
      "source": [
        "<a href=\"https://colab.research.google.com/github/chaugaialberteinstein/112_days_code_challenge/blob/main/Day86.ipynb\" target=\"_parent\"><img src=\"https://colab.research.google.com/assets/colab-badge.svg\" alt=\"Open In Colab\"/></a>"
      ]
    },
    {
      "cell_type": "markdown",
      "source": [
        "Exercise 86\n",
        "\n",
        "Using the load_digits() function from the scikit-learn package image data was loaded into the following variables:\n",
        "\n",
        "    data - images as a numpy array with (1797, 64) shape\n",
        "\n",
        "    target - labels as a numpy array with (1797,) shape \n",
        "\n",
        "Then the data variable was standardized. Using the train_test_split() function, the data was splitted into train and test set:\n",
        "\n",
        "    X_train, y_train\n",
        "\n",
        "    X_test, y_test\n",
        "\n",
        "with the following shapes:\n",
        "\n",
        "\n",
        "    X_train shape: (1347, 64)\n",
        "    y_train shape: (1347,)\n",
        "    X_test shape: (450, 64)\n",
        "    y_test shape: (450,)\n",
        "\n",
        "\n",
        "Create a classification model using the LogisticRegression class from the scikit-learn package. Fit the model on the train data and then evaluate on the test data. In response, print the accuracy of the model to the console as shown below.\n",
        "\n",
        "\n",
        "Tip: More about LogisticRegression class: https://scikit-learn.org/stable/modules/generated/sklearn.linear_model.LogisticRegression.html\n",
        "\n",
        "\n",
        "Expected result:\n",
        "\n",
        "\n",
        "    Logistic Regression accuracy: 0.9689"
      ],
      "metadata": {
        "id": "y0PFLa1uZA0O"
      }
    },
    {
      "cell_type": "code",
      "source": [
        "import numpy as np\n",
        "import pandas as pd"
      ],
      "metadata": {
        "id": "gwPUY43HZBT6"
      },
      "execution_count": 8,
      "outputs": []
    },
    {
      "cell_type": "code",
      "source": [
        "from sklearn.datasets import load_digits\n",
        "from sklearn.model_selection import train_test_split\n",
        "from sklearn.linear_model import LogisticRegression"
      ],
      "metadata": {
        "id": "L7lxl1bGbV4f"
      },
      "execution_count": 9,
      "outputs": []
    },
    {
      "cell_type": "code",
      "source": [
        "np.random.seed(42)\n",
        "data, target = load_digits(return_X_y = True)\n",
        "data = data/data.max()"
      ],
      "metadata": {
        "id": "9Q_2llTObkfw"
      },
      "execution_count": 10,
      "outputs": []
    },
    {
      "cell_type": "code",
      "source": [
        "X_train, X_test , y_train , y_test = train_test_split(\n",
        "    data,\n",
        "    target,\n",
        "    random_state = 42\n",
        ")"
      ],
      "metadata": {
        "id": "fqJtsbRMbwPV"
      },
      "execution_count": 11,
      "outputs": []
    },
    {
      "cell_type": "code",
      "source": [
        "classifier = LogisticRegression(max_iter =1000)\n",
        "classifier.fit(X_train , y_train)\n",
        "acc = classifier.score(X_test , y_test)"
      ],
      "metadata": {
        "id": "yt2X3RwTb8cJ"
      },
      "execution_count": 12,
      "outputs": []
    },
    {
      "cell_type": "code",
      "source": [
        "print(f'Logistic Regression accuracy :{acc:.4f} ')"
      ],
      "metadata": {
        "colab": {
          "base_uri": "https://localhost:8080/"
        },
        "id": "hahX9kUYcKVq",
        "outputId": "0a6537f2-cf7e-42c5-fc85-5a8e51693170"
      },
      "execution_count": 13,
      "outputs": [
        {
          "output_type": "stream",
          "name": "stdout",
          "text": [
            "Logistic Regression accuracy :0.9689 \n"
          ]
        }
      ]
    }
  ]
}