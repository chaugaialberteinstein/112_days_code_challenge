{
  "nbformat": 4,
  "nbformat_minor": 0,
  "metadata": {
    "colab": {
      "provenance": [],
      "authorship_tag": "ABX9TyNn4/mMo0JAUjWNlWJdKQM7",
      "include_colab_link": true
    },
    "kernelspec": {
      "name": "python3",
      "display_name": "Python 3"
    },
    "language_info": {
      "name": "python"
    }
  },
  "cells": [
    {
      "cell_type": "markdown",
      "metadata": {
        "id": "view-in-github",
        "colab_type": "text"
      },
      "source": [
        "<a href=\"https://colab.research.google.com/github/chaugaialberteinstein/112_days_code_challenge/blob/main/Day53.ipynb\" target=\"_parent\"><img src=\"https://colab.research.google.com/assets/colab-badge.svg\" alt=\"Open In Colab\"/></a>"
      ]
    },
    {
      "cell_type": "markdown",
      "source": [
        "Exercise 53\n",
        "\n",
        "The following list with text documents is given:\n",
        "\n",
        "\n",
        "    documents = [\n",
        "        'python is a programming language',\n",
        "        'python is popular',\n",
        "        'programming in python',\n",
        "        'object-oriented programming in python'\n",
        "    ]\n",
        "\n",
        "\n",
        "Vectorize your documents with the CountVectorizer class from the scikit-learn.\n",
        "\n",
        "In response, print the result as a DataFrame as shown below.\n",
        "\n",
        "\n",
        "Tip: More about CountVectorizer class: https://scikit-learn.org/stable/modules/generated/sklearn.feature_extraction.text.CountVectorizer.html\n",
        "\n",
        "\n",
        "Expected result:\n",
        "\n",
        "\n",
        "       in  is  language  object  oriented  popular  programming  python\n",
        "    0   0   1         1       0         0        0            1       1\n",
        "    1   0   1         0       0         0        1            0       1\n",
        "    2   1   0         0       0         0        0            1       1\n",
        "    3   1   0         0       1         1        0            1       1\n",
        "\n",
        "\n"
      ],
      "metadata": {
        "id": "yXqF0h2fIHga"
      }
    },
    {
      "cell_type": "code",
      "source": [
        "import pandas as pd\n",
        "import numpy as np\n",
        "from sklearn.feature_extraction.text import CountVectorizer "
      ],
      "metadata": {
        "id": "XAg1FlIqIIBJ"
      },
      "execution_count": 1,
      "outputs": []
    },
    {
      "cell_type": "code",
      "source": [
        "documents = [\n",
        "    'python is a programming language',\n",
        "    'python is popular',\n",
        "    'programming in python',\n",
        "    'object-oriented programming in python'\n",
        "]\n",
        " "
      ],
      "metadata": {
        "id": "b-Bbm9ODKZEc"
      },
      "execution_count": 2,
      "outputs": []
    },
    {
      "cell_type": "code",
      "source": [
        "vectorizer= CountVectorizer()\n",
        "df = pd.DataFrame(data=vectorizer.fit_transform(documents).toarray(), \n",
        "                  columns=vectorizer.get_feature_names())\n",
        "print(df)"
      ],
      "metadata": {
        "colab": {
          "base_uri": "https://localhost:8080/"
        },
        "id": "YYfcn6QfKkTY",
        "outputId": "02964bcb-6440-40c4-9fd0-fd614d0f5171"
      },
      "execution_count": 3,
      "outputs": [
        {
          "output_type": "stream",
          "name": "stdout",
          "text": [
            "   in  is  language  object  oriented  popular  programming  python\n",
            "0   0   1         1       0         0        0            1       1\n",
            "1   0   1         0       0         0        1            0       1\n",
            "2   1   0         0       0         0        0            1       1\n",
            "3   1   0         0       1         1        0            1       1\n"
          ]
        },
        {
          "output_type": "stream",
          "name": "stderr",
          "text": [
            "/usr/local/lib/python3.7/dist-packages/sklearn/utils/deprecation.py:87: FutureWarning: Function get_feature_names is deprecated; get_feature_names is deprecated in 1.0 and will be removed in 1.2. Please use get_feature_names_out instead.\n",
            "  warnings.warn(msg, category=FutureWarning)\n"
          ]
        }
      ]
    },
    {
      "cell_type": "code",
      "source": [],
      "metadata": {
        "id": "HQ7ds-ejK0GU"
      },
      "execution_count": 3,
      "outputs": []
    }
  ]
}