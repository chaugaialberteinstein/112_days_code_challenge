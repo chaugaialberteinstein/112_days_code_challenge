{
  "nbformat": 4,
  "nbformat_minor": 0,
  "metadata": {
    "colab": {
      "provenance": [],
      "authorship_tag": "ABX9TyON7nOKlhnmvD8ZOHR9XSsB",
      "include_colab_link": true
    },
    "kernelspec": {
      "name": "python3",
      "display_name": "Python 3"
    },
    "language_info": {
      "name": "python"
    }
  },
  "cells": [
    {
      "cell_type": "markdown",
      "metadata": {
        "id": "view-in-github",
        "colab_type": "text"
      },
      "source": [
        "<a href=\"https://colab.research.google.com/github/chaugaialberteinstein/112_days_code_challenge/blob/main/Day50.ipynb\" target=\"_parent\"><img src=\"https://colab.research.google.com/assets/colab-badge.svg\" alt=\"Open In Colab\"/></a>"
      ]
    },
    {
      "cell_type": "markdown",
      "source": [
        "Exercise 50\n",
        "\n",
        "The following arrays are given:\n",
        "\n",
        "    X_train, y_train\n",
        "\n",
        "    X_test, y_test\n",
        "\n",
        "\n",
        "Using the DecisionTreeClassifier class and grid search method (GridSearchCV class - set scoring='accuracy', cv=5) find the optimal values of the max_depth and min_samples_leaf arguments. Search for parameter values from the following:\n",
        "\n",
        "    for max_depth -> np.arange(1, 10)\n",
        "\n",
        "    for min_samples_leaf -> [1, 2, 3, 4, 5, 6, 7, 8, 9, 10, 15, 20]\n",
        "\n",
        "Train the model on the train set and evaluate on the test set. In response, print founded optimal values of max_depth and min_samples_leaf to the console.\n",
        "\n",
        "\n",
        "Tips:\n",
        "\n",
        "    More about DecisionTreeClassifier class: https://scikit-learn.org/stable/modules/generated/sklearn.tree.DecisionTreeClassifier.html\n",
        "\n",
        "    More about GridSearchCV class: https://scikit-learn.org/stable/modules/generated/sklearn.model_selection.GridSearchCV.html\n",
        "\n",
        "\n",
        "Expected result:\n",
        "\n",
        "\n",
        "    {'max_depth': 6, 'min_samples_leaf': 6}\n",
        "\n",
        "\n"
      ],
      "metadata": {
        "id": "6MIyB1GPJuTK"
      }
    },
    {
      "cell_type": "code",
      "source": [
        "import numpy as np\n",
        "import pandas as pd\n",
        " \n",
        "from sklearn.datasets import make_moons\n",
        "from sklearn.model_selection import train_test_split\n",
        "from sklearn.tree import DecisionTreeClassifier\n",
        "from sklearn.model_selection import GridSearchCV"
      ],
      "metadata": {
        "id": "aSfT4YjYJuz7"
      },
      "execution_count": 1,
      "outputs": []
    },
    {
      "cell_type": "code",
      "source": [
        "np.random.seed(42)\n",
        "raw_data = make_moons(n_samples=2000, noise=0.25, random_state=42)\n",
        "data = raw_data[0]\n",
        "target = raw_data[1]"
      ],
      "metadata": {
        "id": "8S5i7AJlNeOw"
      },
      "execution_count": 2,
      "outputs": []
    },
    {
      "cell_type": "code",
      "source": [
        "X_train, X_test, y_train, y_test = train_test_split(data, target)\n",
        " \n",
        "classifier = DecisionTreeClassifier()\n",
        " "
      ],
      "metadata": {
        "id": "meusScLlNggi"
      },
      "execution_count": 3,
      "outputs": []
    },
    {
      "cell_type": "code",
      "source": [
        "params = {'max_depth': np.arange(1, 10),\n",
        "         'min_samples_leaf': [1, 2, 3, 4, 5, 6, 7, 8, 9, 10, 15, 20]}\n",
        " \n",
        "grid_search = GridSearchCV(\n",
        "    classifier, \n",
        "    param_grid=params, \n",
        "    scoring='accuracy', \n",
        "    cv=5\n",
        ")"
      ],
      "metadata": {
        "id": "BHFDc1qANi5G"
      },
      "execution_count": 4,
      "outputs": []
    },
    {
      "cell_type": "code",
      "source": [
        "grid_search.fit(X_train, y_train)\n",
        "print(grid_search.best_params_)"
      ],
      "metadata": {
        "id": "0tdm_VViNleA",
        "outputId": "110f0b7d-a069-41b2-8ab2-9e587f79eb39",
        "colab": {
          "base_uri": "https://localhost:8080/"
        }
      },
      "execution_count": 5,
      "outputs": [
        {
          "output_type": "stream",
          "name": "stdout",
          "text": [
            "{'max_depth': 6, 'min_samples_leaf': 6}\n"
          ]
        }
      ]
    }
  ]
}